{
 "cells": [
  {
   "cell_type": "code",
   "execution_count": 2,
   "metadata": {},
   "outputs": [],
   "source": [
    "import pandas as pd\n",
    "import warnings\n",
    "warnings.filterwarnings('always')\n",
    "warnings.filterwarnings('ignore')\n",
    "from sklearn.preprocessing import OneHotEncoder\n",
    "from sklearn.model_selection import train_test_split,GridSearchCV\n",
    "from sklearn.compose import ColumnTransformer\n",
    "from sklearn.pipeline import Pipeline\n",
    "from sklearn.linear_model import LogisticRegression\n",
    "from sklearn.svm import SVC\n",
    "from sklearn.ensemble import RandomForestClassifier\n",
    "from sklearn.metrics import accuracy_score\n",
    "import matplotlib.pyplot as plt\n",
    "import plotly.express as px\n",
    "import plotly.graph_objects as go"
   ]
  },
  {
   "cell_type": "code",
   "execution_count": 3,
   "metadata": {},
   "outputs": [
    {
     "data": {
      "text/html": [
       "<div>\n",
       "<style scoped>\n",
       "    .dataframe tbody tr th:only-of-type {\n",
       "        vertical-align: middle;\n",
       "    }\n",
       "\n",
       "    .dataframe tbody tr th {\n",
       "        vertical-align: top;\n",
       "    }\n",
       "\n",
       "    .dataframe thead th {\n",
       "        text-align: right;\n",
       "    }\n",
       "</style>\n",
       "<table border=\"1\" class=\"dataframe\">\n",
       "  <thead>\n",
       "    <tr style=\"text-align: right;\">\n",
       "      <th></th>\n",
       "      <th>Unnamed: 0</th>\n",
       "      <th>Match ID</th>\n",
       "      <th>Date</th>\n",
       "      <th>Venue</th>\n",
       "      <th>Bat First</th>\n",
       "      <th>Bat Second</th>\n",
       "      <th>Innings</th>\n",
       "      <th>Over</th>\n",
       "      <th>Ball</th>\n",
       "      <th>Batter</th>\n",
       "      <th>...</th>\n",
       "      <th>Winner</th>\n",
       "      <th>Chased Successfully</th>\n",
       "      <th>Total Batter Runs</th>\n",
       "      <th>Total Non Striker Runs</th>\n",
       "      <th>Batter Balls Faced</th>\n",
       "      <th>Non Striker Balls Faced</th>\n",
       "      <th>Player Out Runs</th>\n",
       "      <th>Player Out Balls Faced</th>\n",
       "      <th>Bowler Runs Conceded</th>\n",
       "      <th>Valid Ball</th>\n",
       "    </tr>\n",
       "  </thead>\n",
       "  <tbody>\n",
       "    <tr>\n",
       "      <th>0</th>\n",
       "      <td>0</td>\n",
       "      <td>1339605</td>\n",
       "      <td>2023-03-26</td>\n",
       "      <td>SuperSport Park</td>\n",
       "      <td>West Indies</td>\n",
       "      <td>South Africa</td>\n",
       "      <td>1</td>\n",
       "      <td>1</td>\n",
       "      <td>1</td>\n",
       "      <td>BA King</td>\n",
       "      <td>...</td>\n",
       "      <td>South Africa</td>\n",
       "      <td>1</td>\n",
       "      <td>1</td>\n",
       "      <td>0</td>\n",
       "      <td>1</td>\n",
       "      <td>0</td>\n",
       "      <td>NaN</td>\n",
       "      <td>NaN</td>\n",
       "      <td>1</td>\n",
       "      <td>1</td>\n",
       "    </tr>\n",
       "    <tr>\n",
       "      <th>1</th>\n",
       "      <td>1</td>\n",
       "      <td>1339605</td>\n",
       "      <td>2023-03-26</td>\n",
       "      <td>SuperSport Park</td>\n",
       "      <td>West Indies</td>\n",
       "      <td>South Africa</td>\n",
       "      <td>1</td>\n",
       "      <td>1</td>\n",
       "      <td>2</td>\n",
       "      <td>KR Mayers</td>\n",
       "      <td>...</td>\n",
       "      <td>South Africa</td>\n",
       "      <td>1</td>\n",
       "      <td>1</td>\n",
       "      <td>1</td>\n",
       "      <td>1</td>\n",
       "      <td>1</td>\n",
       "      <td>NaN</td>\n",
       "      <td>NaN</td>\n",
       "      <td>1</td>\n",
       "      <td>1</td>\n",
       "    </tr>\n",
       "    <tr>\n",
       "      <th>2</th>\n",
       "      <td>2</td>\n",
       "      <td>1339605</td>\n",
       "      <td>2023-03-26</td>\n",
       "      <td>SuperSport Park</td>\n",
       "      <td>West Indies</td>\n",
       "      <td>South Africa</td>\n",
       "      <td>1</td>\n",
       "      <td>1</td>\n",
       "      <td>3</td>\n",
       "      <td>BA King</td>\n",
       "      <td>...</td>\n",
       "      <td>South Africa</td>\n",
       "      <td>1</td>\n",
       "      <td>0</td>\n",
       "      <td>1</td>\n",
       "      <td>0</td>\n",
       "      <td>1</td>\n",
       "      <td>1.0</td>\n",
       "      <td>2.0</td>\n",
       "      <td>0</td>\n",
       "      <td>1</td>\n",
       "    </tr>\n",
       "    <tr>\n",
       "      <th>3</th>\n",
       "      <td>3</td>\n",
       "      <td>1339605</td>\n",
       "      <td>2023-03-26</td>\n",
       "      <td>SuperSport Park</td>\n",
       "      <td>West Indies</td>\n",
       "      <td>South Africa</td>\n",
       "      <td>1</td>\n",
       "      <td>1</td>\n",
       "      <td>4</td>\n",
       "      <td>J Charles</td>\n",
       "      <td>...</td>\n",
       "      <td>South Africa</td>\n",
       "      <td>1</td>\n",
       "      <td>0</td>\n",
       "      <td>1</td>\n",
       "      <td>1</td>\n",
       "      <td>1</td>\n",
       "      <td>NaN</td>\n",
       "      <td>NaN</td>\n",
       "      <td>0</td>\n",
       "      <td>1</td>\n",
       "    </tr>\n",
       "    <tr>\n",
       "      <th>4</th>\n",
       "      <td>4</td>\n",
       "      <td>1339605</td>\n",
       "      <td>2023-03-26</td>\n",
       "      <td>SuperSport Park</td>\n",
       "      <td>West Indies</td>\n",
       "      <td>South Africa</td>\n",
       "      <td>1</td>\n",
       "      <td>1</td>\n",
       "      <td>5</td>\n",
       "      <td>J Charles</td>\n",
       "      <td>...</td>\n",
       "      <td>South Africa</td>\n",
       "      <td>1</td>\n",
       "      <td>4</td>\n",
       "      <td>1</td>\n",
       "      <td>2</td>\n",
       "      <td>1</td>\n",
       "      <td>NaN</td>\n",
       "      <td>NaN</td>\n",
       "      <td>4</td>\n",
       "      <td>1</td>\n",
       "    </tr>\n",
       "  </tbody>\n",
       "</table>\n",
       "<p>5 rows × 35 columns</p>\n",
       "</div>"
      ],
      "text/plain": [
       "   Unnamed: 0  Match ID        Date            Venue    Bat First  \\\n",
       "0           0   1339605  2023-03-26  SuperSport Park  West Indies   \n",
       "1           1   1339605  2023-03-26  SuperSport Park  West Indies   \n",
       "2           2   1339605  2023-03-26  SuperSport Park  West Indies   \n",
       "3           3   1339605  2023-03-26  SuperSport Park  West Indies   \n",
       "4           4   1339605  2023-03-26  SuperSport Park  West Indies   \n",
       "\n",
       "     Bat Second  Innings  Over  Ball     Batter  ...        Winner  \\\n",
       "0  South Africa        1     1     1    BA King  ...  South Africa   \n",
       "1  South Africa        1     1     2  KR Mayers  ...  South Africa   \n",
       "2  South Africa        1     1     3    BA King  ...  South Africa   \n",
       "3  South Africa        1     1     4  J Charles  ...  South Africa   \n",
       "4  South Africa        1     1     5  J Charles  ...  South Africa   \n",
       "\n",
       "  Chased Successfully  Total Batter Runs  Total Non Striker Runs  \\\n",
       "0                   1                  1                       0   \n",
       "1                   1                  1                       1   \n",
       "2                   1                  0                       1   \n",
       "3                   1                  0                       1   \n",
       "4                   1                  4                       1   \n",
       "\n",
       "   Batter Balls Faced  Non Striker Balls Faced Player Out Runs  \\\n",
       "0                   1                        0             NaN   \n",
       "1                   1                        1             NaN   \n",
       "2                   0                        1             1.0   \n",
       "3                   1                        1             NaN   \n",
       "4                   2                        1             NaN   \n",
       "\n",
       "   Player Out Balls Faced Bowler Runs Conceded Valid Ball  \n",
       "0                     NaN                    1          1  \n",
       "1                     NaN                    1          1  \n",
       "2                     2.0                    0          1  \n",
       "3                     NaN                    0          1  \n",
       "4                     NaN                    4          1  \n",
       "\n",
       "[5 rows x 35 columns]"
      ]
     },
     "execution_count": 3,
     "metadata": {},
     "output_type": "execute_result"
    }
   ],
   "source": [
    "df=pd.read_csv(\"ball_by_ball_it20.csv\")\n",
    "df.head()"
   ]
  },
  {
   "cell_type": "code",
   "execution_count": 4,
   "metadata": {},
   "outputs": [
    {
     "data": {
      "text/plain": [
       "Index(['Unnamed: 0', 'Match ID', 'Date', 'Venue', 'Bat First', 'Bat Second',\n",
       "       'Innings', 'Over', 'Ball', 'Batter', 'Non Striker', 'Bowler',\n",
       "       'Batter Runs', 'Extra Runs', 'Runs From Ball', 'Ball Rebowled',\n",
       "       'Extra Type', 'Wicket', 'Method', 'Player Out', 'Innings Runs',\n",
       "       'Innings Wickets', 'Target Score', 'Runs to Get', 'Balls Remaining',\n",
       "       'Winner', 'Chased Successfully', 'Total Batter Runs',\n",
       "       'Total Non Striker Runs', 'Batter Balls Faced',\n",
       "       'Non Striker Balls Faced', 'Player Out Runs', 'Player Out Balls Faced',\n",
       "       'Bowler Runs Conceded', 'Valid Ball'],\n",
       "      dtype='object')"
      ]
     },
     "execution_count": 4,
     "metadata": {},
     "output_type": "execute_result"
    }
   ],
   "source": [
    "df.columns"
   ]
  },
  {
   "cell_type": "code",
   "execution_count": 5,
   "metadata": {},
   "outputs": [
    {
     "data": {
      "text/plain": [
       "array(['West Indies', 'Scotland', 'Estonia', 'Portugal', 'Kuwait',\n",
       "       'Sri Lanka', 'Swaziland', 'Belize', 'England',\n",
       "       'United Arab Emirates', 'Denmark', 'Bangladesh', 'Finland',\n",
       "       'India', 'Papua New Guinea', 'Afghanistan', 'Japan', 'Croatia',\n",
       "       'Netherlands', 'Ireland', 'New Zealand', 'Romania', 'Pakistan',\n",
       "       'Gibraltar', 'Rwanda', 'Malaysia', 'Malta', 'Cyprus', 'Nepal',\n",
       "       'Austria', 'Samoa', 'Nigeria', 'South Africa', 'Australia',\n",
       "       'Belgium', 'Oman', 'Bahamas', 'Seychelles', 'Panama', 'Jersey',\n",
       "       'Zimbabwe', 'Hong Kong', 'Kenya', 'China', 'Uganda', 'Botswana',\n",
       "       'Ghana', 'Vanuatu', 'Cayman Islands', 'Bahrain', 'Malawi',\n",
       "       'Isle of Man', 'Cameroon', 'Norway', 'Singapore', 'Maldives',\n",
       "       'Hungary', 'Canada', 'St Helena', 'Tanzania', 'Serbia', 'Namibia',\n",
       "       'Philippines', 'Germany', 'Bulgaria', 'Thailand', 'Lesotho',\n",
       "       'Czech Republic', 'Luxembourg', 'Spain', 'Mali', 'Bhutan',\n",
       "       'Slovenia', 'Indonesia', 'Argentina', 'Bermuda', 'Sweden', 'Fiji',\n",
       "       'France', 'Turkey', 'Mozambique', 'Qatar', 'Italy', 'Gambia',\n",
       "       'Cook Islands', 'Guernsey', 'Sierra Leone',\n",
       "       'United States of America', 'Israel', 'Switzerland', 'Myanmar',\n",
       "       'Saudi Arabia', 'South Korea', 'Iran', 'Eswatini', 'Greece'],\n",
       "      dtype=object)"
      ]
     },
     "execution_count": 5,
     "metadata": {},
     "output_type": "execute_result"
    }
   ],
   "source": [
    "df[\"Bat First\"].unique()"
   ]
  },
  {
   "cell_type": "code",
   "execution_count": 6,
   "metadata": {},
   "outputs": [
    {
     "data": {
      "text/html": [
       "<div>\n",
       "<style scoped>\n",
       "    .dataframe tbody tr th:only-of-type {\n",
       "        vertical-align: middle;\n",
       "    }\n",
       "\n",
       "    .dataframe tbody tr th {\n",
       "        vertical-align: top;\n",
       "    }\n",
       "\n",
       "    .dataframe thead th {\n",
       "        text-align: right;\n",
       "    }\n",
       "</style>\n",
       "<table border=\"1\" class=\"dataframe\">\n",
       "  <thead>\n",
       "    <tr style=\"text-align: right;\">\n",
       "      <th></th>\n",
       "      <th>Unnamed: 0</th>\n",
       "      <th>Match ID</th>\n",
       "      <th>Date</th>\n",
       "      <th>Venue</th>\n",
       "      <th>Bat First</th>\n",
       "      <th>Bat Second</th>\n",
       "      <th>Innings</th>\n",
       "      <th>Over</th>\n",
       "      <th>Ball</th>\n",
       "      <th>Batter</th>\n",
       "      <th>...</th>\n",
       "      <th>Winner</th>\n",
       "      <th>Chased Successfully</th>\n",
       "      <th>Total Batter Runs</th>\n",
       "      <th>Total Non Striker Runs</th>\n",
       "      <th>Batter Balls Faced</th>\n",
       "      <th>Non Striker Balls Faced</th>\n",
       "      <th>Player Out Runs</th>\n",
       "      <th>Player Out Balls Faced</th>\n",
       "      <th>Bowler Runs Conceded</th>\n",
       "      <th>Valid Ball</th>\n",
       "    </tr>\n",
       "  </thead>\n",
       "  <tbody>\n",
       "    <tr>\n",
       "      <th>0</th>\n",
       "      <td>0</td>\n",
       "      <td>1339605</td>\n",
       "      <td>2023-03-26</td>\n",
       "      <td>SuperSport Park</td>\n",
       "      <td>West Indies</td>\n",
       "      <td>South Africa</td>\n",
       "      <td>1</td>\n",
       "      <td>1</td>\n",
       "      <td>1</td>\n",
       "      <td>BA King</td>\n",
       "      <td>...</td>\n",
       "      <td>South Africa</td>\n",
       "      <td>1</td>\n",
       "      <td>1</td>\n",
       "      <td>0</td>\n",
       "      <td>1</td>\n",
       "      <td>0</td>\n",
       "      <td>NaN</td>\n",
       "      <td>NaN</td>\n",
       "      <td>1</td>\n",
       "      <td>1</td>\n",
       "    </tr>\n",
       "    <tr>\n",
       "      <th>1</th>\n",
       "      <td>1</td>\n",
       "      <td>1339605</td>\n",
       "      <td>2023-03-26</td>\n",
       "      <td>SuperSport Park</td>\n",
       "      <td>West Indies</td>\n",
       "      <td>South Africa</td>\n",
       "      <td>1</td>\n",
       "      <td>1</td>\n",
       "      <td>2</td>\n",
       "      <td>KR Mayers</td>\n",
       "      <td>...</td>\n",
       "      <td>South Africa</td>\n",
       "      <td>1</td>\n",
       "      <td>1</td>\n",
       "      <td>1</td>\n",
       "      <td>1</td>\n",
       "      <td>1</td>\n",
       "      <td>NaN</td>\n",
       "      <td>NaN</td>\n",
       "      <td>1</td>\n",
       "      <td>1</td>\n",
       "    </tr>\n",
       "    <tr>\n",
       "      <th>2</th>\n",
       "      <td>2</td>\n",
       "      <td>1339605</td>\n",
       "      <td>2023-03-26</td>\n",
       "      <td>SuperSport Park</td>\n",
       "      <td>West Indies</td>\n",
       "      <td>South Africa</td>\n",
       "      <td>1</td>\n",
       "      <td>1</td>\n",
       "      <td>3</td>\n",
       "      <td>BA King</td>\n",
       "      <td>...</td>\n",
       "      <td>South Africa</td>\n",
       "      <td>1</td>\n",
       "      <td>0</td>\n",
       "      <td>1</td>\n",
       "      <td>0</td>\n",
       "      <td>1</td>\n",
       "      <td>1.0</td>\n",
       "      <td>2.0</td>\n",
       "      <td>0</td>\n",
       "      <td>1</td>\n",
       "    </tr>\n",
       "    <tr>\n",
       "      <th>3</th>\n",
       "      <td>3</td>\n",
       "      <td>1339605</td>\n",
       "      <td>2023-03-26</td>\n",
       "      <td>SuperSport Park</td>\n",
       "      <td>West Indies</td>\n",
       "      <td>South Africa</td>\n",
       "      <td>1</td>\n",
       "      <td>1</td>\n",
       "      <td>4</td>\n",
       "      <td>J Charles</td>\n",
       "      <td>...</td>\n",
       "      <td>South Africa</td>\n",
       "      <td>1</td>\n",
       "      <td>0</td>\n",
       "      <td>1</td>\n",
       "      <td>1</td>\n",
       "      <td>1</td>\n",
       "      <td>NaN</td>\n",
       "      <td>NaN</td>\n",
       "      <td>0</td>\n",
       "      <td>1</td>\n",
       "    </tr>\n",
       "    <tr>\n",
       "      <th>4</th>\n",
       "      <td>4</td>\n",
       "      <td>1339605</td>\n",
       "      <td>2023-03-26</td>\n",
       "      <td>SuperSport Park</td>\n",
       "      <td>West Indies</td>\n",
       "      <td>South Africa</td>\n",
       "      <td>1</td>\n",
       "      <td>1</td>\n",
       "      <td>5</td>\n",
       "      <td>J Charles</td>\n",
       "      <td>...</td>\n",
       "      <td>South Africa</td>\n",
       "      <td>1</td>\n",
       "      <td>4</td>\n",
       "      <td>1</td>\n",
       "      <td>2</td>\n",
       "      <td>1</td>\n",
       "      <td>NaN</td>\n",
       "      <td>NaN</td>\n",
       "      <td>4</td>\n",
       "      <td>1</td>\n",
       "    </tr>\n",
       "    <tr>\n",
       "      <th>...</th>\n",
       "      <td>...</td>\n",
       "      <td>...</td>\n",
       "      <td>...</td>\n",
       "      <td>...</td>\n",
       "      <td>...</td>\n",
       "      <td>...</td>\n",
       "      <td>...</td>\n",
       "      <td>...</td>\n",
       "      <td>...</td>\n",
       "      <td>...</td>\n",
       "      <td>...</td>\n",
       "      <td>...</td>\n",
       "      <td>...</td>\n",
       "      <td>...</td>\n",
       "      <td>...</td>\n",
       "      <td>...</td>\n",
       "      <td>...</td>\n",
       "      <td>...</td>\n",
       "      <td>...</td>\n",
       "      <td>...</td>\n",
       "      <td>...</td>\n",
       "    </tr>\n",
       "    <tr>\n",
       "      <th>425114</th>\n",
       "      <td>425114</td>\n",
       "      <td>1187667</td>\n",
       "      <td>2019-11-05</td>\n",
       "      <td>Saxton Oval</td>\n",
       "      <td>New Zealand</td>\n",
       "      <td>England</td>\n",
       "      <td>2</td>\n",
       "      <td>20</td>\n",
       "      <td>2</td>\n",
       "      <td>TK Curran</td>\n",
       "      <td>...</td>\n",
       "      <td>New Zealand</td>\n",
       "      <td>0</td>\n",
       "      <td>11</td>\n",
       "      <td>2</td>\n",
       "      <td>9</td>\n",
       "      <td>2</td>\n",
       "      <td>NaN</td>\n",
       "      <td>NaN</td>\n",
       "      <td>0</td>\n",
       "      <td>1</td>\n",
       "    </tr>\n",
       "    <tr>\n",
       "      <th>425115</th>\n",
       "      <td>425115</td>\n",
       "      <td>1187667</td>\n",
       "      <td>2019-11-05</td>\n",
       "      <td>Saxton Oval</td>\n",
       "      <td>New Zealand</td>\n",
       "      <td>England</td>\n",
       "      <td>2</td>\n",
       "      <td>20</td>\n",
       "      <td>3</td>\n",
       "      <td>TK Curran</td>\n",
       "      <td>...</td>\n",
       "      <td>New Zealand</td>\n",
       "      <td>0</td>\n",
       "      <td>12</td>\n",
       "      <td>2</td>\n",
       "      <td>10</td>\n",
       "      <td>2</td>\n",
       "      <td>NaN</td>\n",
       "      <td>NaN</td>\n",
       "      <td>1</td>\n",
       "      <td>1</td>\n",
       "    </tr>\n",
       "    <tr>\n",
       "      <th>425116</th>\n",
       "      <td>425116</td>\n",
       "      <td>1187667</td>\n",
       "      <td>2019-11-05</td>\n",
       "      <td>Saxton Oval</td>\n",
       "      <td>New Zealand</td>\n",
       "      <td>England</td>\n",
       "      <td>2</td>\n",
       "      <td>20</td>\n",
       "      <td>4</td>\n",
       "      <td>S Mahmood</td>\n",
       "      <td>...</td>\n",
       "      <td>New Zealand</td>\n",
       "      <td>0</td>\n",
       "      <td>2</td>\n",
       "      <td>12</td>\n",
       "      <td>3</td>\n",
       "      <td>10</td>\n",
       "      <td>NaN</td>\n",
       "      <td>NaN</td>\n",
       "      <td>0</td>\n",
       "      <td>1</td>\n",
       "    </tr>\n",
       "    <tr>\n",
       "      <th>425117</th>\n",
       "      <td>425117</td>\n",
       "      <td>1187667</td>\n",
       "      <td>2019-11-05</td>\n",
       "      <td>Saxton Oval</td>\n",
       "      <td>New Zealand</td>\n",
       "      <td>England</td>\n",
       "      <td>2</td>\n",
       "      <td>20</td>\n",
       "      <td>5</td>\n",
       "      <td>S Mahmood</td>\n",
       "      <td>...</td>\n",
       "      <td>New Zealand</td>\n",
       "      <td>0</td>\n",
       "      <td>3</td>\n",
       "      <td>12</td>\n",
       "      <td>4</td>\n",
       "      <td>10</td>\n",
       "      <td>NaN</td>\n",
       "      <td>NaN</td>\n",
       "      <td>1</td>\n",
       "      <td>1</td>\n",
       "    </tr>\n",
       "    <tr>\n",
       "      <th>425118</th>\n",
       "      <td>425118</td>\n",
       "      <td>1187667</td>\n",
       "      <td>2019-11-05</td>\n",
       "      <td>Saxton Oval</td>\n",
       "      <td>New Zealand</td>\n",
       "      <td>England</td>\n",
       "      <td>2</td>\n",
       "      <td>20</td>\n",
       "      <td>6</td>\n",
       "      <td>TK Curran</td>\n",
       "      <td>...</td>\n",
       "      <td>New Zealand</td>\n",
       "      <td>0</td>\n",
       "      <td>14</td>\n",
       "      <td>3</td>\n",
       "      <td>11</td>\n",
       "      <td>4</td>\n",
       "      <td>NaN</td>\n",
       "      <td>NaN</td>\n",
       "      <td>2</td>\n",
       "      <td>1</td>\n",
       "    </tr>\n",
       "  </tbody>\n",
       "</table>\n",
       "<p>212630 rows × 35 columns</p>\n",
       "</div>"
      ],
      "text/plain": [
       "        Unnamed: 0  Match ID        Date            Venue    Bat First  \\\n",
       "0                0   1339605  2023-03-26  SuperSport Park  West Indies   \n",
       "1                1   1339605  2023-03-26  SuperSport Park  West Indies   \n",
       "2                2   1339605  2023-03-26  SuperSport Park  West Indies   \n",
       "3                3   1339605  2023-03-26  SuperSport Park  West Indies   \n",
       "4                4   1339605  2023-03-26  SuperSport Park  West Indies   \n",
       "...            ...       ...         ...              ...          ...   \n",
       "425114      425114   1187667  2019-11-05      Saxton Oval  New Zealand   \n",
       "425115      425115   1187667  2019-11-05      Saxton Oval  New Zealand   \n",
       "425116      425116   1187667  2019-11-05      Saxton Oval  New Zealand   \n",
       "425117      425117   1187667  2019-11-05      Saxton Oval  New Zealand   \n",
       "425118      425118   1187667  2019-11-05      Saxton Oval  New Zealand   \n",
       "\n",
       "          Bat Second  Innings  Over  Ball     Batter  ...        Winner  \\\n",
       "0       South Africa        1     1     1    BA King  ...  South Africa   \n",
       "1       South Africa        1     1     2  KR Mayers  ...  South Africa   \n",
       "2       South Africa        1     1     3    BA King  ...  South Africa   \n",
       "3       South Africa        1     1     4  J Charles  ...  South Africa   \n",
       "4       South Africa        1     1     5  J Charles  ...  South Africa   \n",
       "...              ...      ...   ...   ...        ...  ...           ...   \n",
       "425114       England        2    20     2  TK Curran  ...   New Zealand   \n",
       "425115       England        2    20     3  TK Curran  ...   New Zealand   \n",
       "425116       England        2    20     4  S Mahmood  ...   New Zealand   \n",
       "425117       England        2    20     5  S Mahmood  ...   New Zealand   \n",
       "425118       England        2    20     6  TK Curran  ...   New Zealand   \n",
       "\n",
       "       Chased Successfully  Total Batter Runs  Total Non Striker Runs  \\\n",
       "0                        1                  1                       0   \n",
       "1                        1                  1                       1   \n",
       "2                        1                  0                       1   \n",
       "3                        1                  0                       1   \n",
       "4                        1                  4                       1   \n",
       "...                    ...                ...                     ...   \n",
       "425114                   0                 11                       2   \n",
       "425115                   0                 12                       2   \n",
       "425116                   0                  2                      12   \n",
       "425117                   0                  3                      12   \n",
       "425118                   0                 14                       3   \n",
       "\n",
       "        Batter Balls Faced  Non Striker Balls Faced Player Out Runs  \\\n",
       "0                        1                        0             NaN   \n",
       "1                        1                        1             NaN   \n",
       "2                        0                        1             1.0   \n",
       "3                        1                        1             NaN   \n",
       "4                        2                        1             NaN   \n",
       "...                    ...                      ...             ...   \n",
       "425114                   9                        2             NaN   \n",
       "425115                  10                        2             NaN   \n",
       "425116                   3                       10             NaN   \n",
       "425117                   4                       10             NaN   \n",
       "425118                  11                        4             NaN   \n",
       "\n",
       "        Player Out Balls Faced Bowler Runs Conceded Valid Ball  \n",
       "0                          NaN                    1          1  \n",
       "1                          NaN                    1          1  \n",
       "2                          2.0                    0          1  \n",
       "3                          NaN                    0          1  \n",
       "4                          NaN                    4          1  \n",
       "...                        ...                  ...        ...  \n",
       "425114                     NaN                    0          1  \n",
       "425115                     NaN                    1          1  \n",
       "425116                     NaN                    0          1  \n",
       "425117                     NaN                    1          1  \n",
       "425118                     NaN                    2          1  \n",
       "\n",
       "[212630 rows x 35 columns]"
      ]
     },
     "execution_count": 6,
     "metadata": {},
     "output_type": "execute_result"
    }
   ],
   "source": [
    "valid_countries=['West Indies','Sri Lanka','England','Bangladesh','India', 'Afghanistan','Netherlands', 'Ireland', 'New Zealand','Pakistan','Nepal','South Africa', 'Australia','Zimbabwe']\n",
    "df=df[df[\"Bat First\"].isin(valid_countries)]\n",
    "df=df[df[\"Bat Second\"].isin(valid_countries)]\n",
    "df"
   ]
  },
  {
   "cell_type": "code",
   "execution_count": 7,
   "metadata": {},
   "outputs": [
    {
     "data": {
      "text/plain": [
       "180"
      ]
     },
     "execution_count": 7,
     "metadata": {},
     "output_type": "execute_result"
    }
   ],
   "source": [
    "second_innings=df[df[\"Innings\"]==2]\n",
    "df2=second_innings.groupby([\"Match ID\",\"Over\",\"Ball\"]).sum()[['Runs From Ball','Wicket']].reset_index()\n",
    "target=second_innings[[\"Match ID\",'Target Score']]\n",
    "target.drop_duplicates(inplace=True)\n",
    "int(target[target[\"Match ID\"]==211028][\"Target Score\"])\n"
   ]
  },
  {
   "cell_type": "markdown",
   "metadata": {},
   "source": []
  },
  {
   "cell_type": "code",
   "execution_count": 8,
   "metadata": {},
   "outputs": [
    {
     "data": {
      "text/html": [
       "<div>\n",
       "<style scoped>\n",
       "    .dataframe tbody tr th:only-of-type {\n",
       "        vertical-align: middle;\n",
       "    }\n",
       "\n",
       "    .dataframe tbody tr th {\n",
       "        vertical-align: top;\n",
       "    }\n",
       "\n",
       "    .dataframe thead th {\n",
       "        text-align: right;\n",
       "    }\n",
       "</style>\n",
       "<table border=\"1\" class=\"dataframe\">\n",
       "  <thead>\n",
       "    <tr style=\"text-align: right;\">\n",
       "      <th></th>\n",
       "      <th>Match ID</th>\n",
       "      <th>Over</th>\n",
       "      <th>Ball</th>\n",
       "      <th>current score</th>\n",
       "      <th>wickets</th>\n",
       "    </tr>\n",
       "  </thead>\n",
       "  <tbody>\n",
       "    <tr>\n",
       "      <th>0</th>\n",
       "      <td>211028</td>\n",
       "      <td>1</td>\n",
       "      <td>1</td>\n",
       "      <td>0</td>\n",
       "      <td>0</td>\n",
       "    </tr>\n",
       "    <tr>\n",
       "      <th>1</th>\n",
       "      <td>211028</td>\n",
       "      <td>1</td>\n",
       "      <td>2</td>\n",
       "      <td>4</td>\n",
       "      <td>0</td>\n",
       "    </tr>\n",
       "    <tr>\n",
       "      <th>2</th>\n",
       "      <td>211028</td>\n",
       "      <td>1</td>\n",
       "      <td>3</td>\n",
       "      <td>4</td>\n",
       "      <td>0</td>\n",
       "    </tr>\n",
       "    <tr>\n",
       "      <th>3</th>\n",
       "      <td>211028</td>\n",
       "      <td>1</td>\n",
       "      <td>4</td>\n",
       "      <td>4</td>\n",
       "      <td>0</td>\n",
       "    </tr>\n",
       "    <tr>\n",
       "      <th>4</th>\n",
       "      <td>211028</td>\n",
       "      <td>1</td>\n",
       "      <td>5</td>\n",
       "      <td>8</td>\n",
       "      <td>0</td>\n",
       "    </tr>\n",
       "    <tr>\n",
       "      <th>...</th>\n",
       "      <td>...</td>\n",
       "      <td>...</td>\n",
       "      <td>...</td>\n",
       "      <td>...</td>\n",
       "      <td>...</td>\n",
       "    </tr>\n",
       "    <tr>\n",
       "      <th>98026</th>\n",
       "      <td>1384637</td>\n",
       "      <td>20</td>\n",
       "      <td>2</td>\n",
       "      <td>148</td>\n",
       "      <td>7</td>\n",
       "    </tr>\n",
       "    <tr>\n",
       "      <th>98027</th>\n",
       "      <td>1384637</td>\n",
       "      <td>20</td>\n",
       "      <td>3</td>\n",
       "      <td>148</td>\n",
       "      <td>7</td>\n",
       "    </tr>\n",
       "    <tr>\n",
       "      <th>98028</th>\n",
       "      <td>1384637</td>\n",
       "      <td>20</td>\n",
       "      <td>4</td>\n",
       "      <td>148</td>\n",
       "      <td>8</td>\n",
       "    </tr>\n",
       "    <tr>\n",
       "      <th>98029</th>\n",
       "      <td>1384637</td>\n",
       "      <td>20</td>\n",
       "      <td>5</td>\n",
       "      <td>148</td>\n",
       "      <td>8</td>\n",
       "    </tr>\n",
       "    <tr>\n",
       "      <th>98030</th>\n",
       "      <td>1384637</td>\n",
       "      <td>20</td>\n",
       "      <td>6</td>\n",
       "      <td>152</td>\n",
       "      <td>8</td>\n",
       "    </tr>\n",
       "  </tbody>\n",
       "</table>\n",
       "<p>98031 rows × 5 columns</p>\n",
       "</div>"
      ],
      "text/plain": [
       "       Match ID  Over  Ball  current score  wickets\n",
       "0        211028     1     1              0        0\n",
       "1        211028     1     2              4        0\n",
       "2        211028     1     3              4        0\n",
       "3        211028     1     4              4        0\n",
       "4        211028     1     5              8        0\n",
       "...         ...   ...   ...            ...      ...\n",
       "98026   1384637    20     2            148        7\n",
       "98027   1384637    20     3            148        7\n",
       "98028   1384637    20     4            148        8\n",
       "98029   1384637    20     5            148        8\n",
       "98030   1384637    20     6            152        8\n",
       "\n",
       "[98031 rows x 5 columns]"
      ]
     },
     "execution_count": 8,
     "metadata": {},
     "output_type": "execute_result"
    }
   ],
   "source": [
    "df2[\"current score\"]=df2.groupby(\"Match ID\").cumsum()[\"Runs From Ball\"]\n",
    "df2[\"wickets\"]=df2.groupby(\"Match ID\").cumsum()[\"Wicket\"]\n",
    "df2.drop(columns=[\"Runs From Ball\",\"Wicket\"],inplace=True)\n",
    "df2"
   ]
  },
  {
   "cell_type": "code",
   "execution_count": 9,
   "metadata": {},
   "outputs": [
    {
     "data": {
      "text/html": [
       "<div>\n",
       "<style scoped>\n",
       "    .dataframe tbody tr th:only-of-type {\n",
       "        vertical-align: middle;\n",
       "    }\n",
       "\n",
       "    .dataframe tbody tr th {\n",
       "        vertical-align: top;\n",
       "    }\n",
       "\n",
       "    .dataframe thead th {\n",
       "        text-align: right;\n",
       "    }\n",
       "</style>\n",
       "<table border=\"1\" class=\"dataframe\">\n",
       "  <thead>\n",
       "    <tr style=\"text-align: right;\">\n",
       "      <th></th>\n",
       "      <th>Match ID</th>\n",
       "      <th>Over</th>\n",
       "      <th>Ball</th>\n",
       "      <th>current score</th>\n",
       "      <th>wickets</th>\n",
       "      <th>Target Score</th>\n",
       "    </tr>\n",
       "  </thead>\n",
       "  <tbody>\n",
       "    <tr>\n",
       "      <th>0</th>\n",
       "      <td>211028</td>\n",
       "      <td>1</td>\n",
       "      <td>1</td>\n",
       "      <td>0</td>\n",
       "      <td>0</td>\n",
       "      <td>180</td>\n",
       "    </tr>\n",
       "    <tr>\n",
       "      <th>1</th>\n",
       "      <td>211028</td>\n",
       "      <td>1</td>\n",
       "      <td>2</td>\n",
       "      <td>4</td>\n",
       "      <td>0</td>\n",
       "      <td>180</td>\n",
       "    </tr>\n",
       "    <tr>\n",
       "      <th>2</th>\n",
       "      <td>211028</td>\n",
       "      <td>1</td>\n",
       "      <td>3</td>\n",
       "      <td>4</td>\n",
       "      <td>0</td>\n",
       "      <td>180</td>\n",
       "    </tr>\n",
       "    <tr>\n",
       "      <th>3</th>\n",
       "      <td>211028</td>\n",
       "      <td>1</td>\n",
       "      <td>4</td>\n",
       "      <td>4</td>\n",
       "      <td>0</td>\n",
       "      <td>180</td>\n",
       "    </tr>\n",
       "    <tr>\n",
       "      <th>4</th>\n",
       "      <td>211028</td>\n",
       "      <td>1</td>\n",
       "      <td>5</td>\n",
       "      <td>8</td>\n",
       "      <td>0</td>\n",
       "      <td>180</td>\n",
       "    </tr>\n",
       "    <tr>\n",
       "      <th>...</th>\n",
       "      <td>...</td>\n",
       "      <td>...</td>\n",
       "      <td>...</td>\n",
       "      <td>...</td>\n",
       "      <td>...</td>\n",
       "      <td>...</td>\n",
       "    </tr>\n",
       "    <tr>\n",
       "      <th>98026</th>\n",
       "      <td>1384637</td>\n",
       "      <td>20</td>\n",
       "      <td>2</td>\n",
       "      <td>148</td>\n",
       "      <td>7</td>\n",
       "      <td>186</td>\n",
       "    </tr>\n",
       "    <tr>\n",
       "      <th>98027</th>\n",
       "      <td>1384637</td>\n",
       "      <td>20</td>\n",
       "      <td>3</td>\n",
       "      <td>148</td>\n",
       "      <td>7</td>\n",
       "      <td>186</td>\n",
       "    </tr>\n",
       "    <tr>\n",
       "      <th>98028</th>\n",
       "      <td>1384637</td>\n",
       "      <td>20</td>\n",
       "      <td>4</td>\n",
       "      <td>148</td>\n",
       "      <td>8</td>\n",
       "      <td>186</td>\n",
       "    </tr>\n",
       "    <tr>\n",
       "      <th>98029</th>\n",
       "      <td>1384637</td>\n",
       "      <td>20</td>\n",
       "      <td>5</td>\n",
       "      <td>148</td>\n",
       "      <td>8</td>\n",
       "      <td>186</td>\n",
       "    </tr>\n",
       "    <tr>\n",
       "      <th>98030</th>\n",
       "      <td>1384637</td>\n",
       "      <td>20</td>\n",
       "      <td>6</td>\n",
       "      <td>152</td>\n",
       "      <td>8</td>\n",
       "      <td>186</td>\n",
       "    </tr>\n",
       "  </tbody>\n",
       "</table>\n",
       "<p>98031 rows × 6 columns</p>\n",
       "</div>"
      ],
      "text/plain": [
       "       Match ID  Over  Ball  current score  wickets  Target Score\n",
       "0        211028     1     1              0        0           180\n",
       "1        211028     1     2              4        0           180\n",
       "2        211028     1     3              4        0           180\n",
       "3        211028     1     4              4        0           180\n",
       "4        211028     1     5              8        0           180\n",
       "...         ...   ...   ...            ...      ...           ...\n",
       "98026   1384637    20     2            148        7           186\n",
       "98027   1384637    20     3            148        7           186\n",
       "98028   1384637    20     4            148        8           186\n",
       "98029   1384637    20     5            148        8           186\n",
       "98030   1384637    20     6            152        8           186\n",
       "\n",
       "[98031 rows x 6 columns]"
      ]
     },
     "execution_count": 9,
     "metadata": {},
     "output_type": "execute_result"
    }
   ],
   "source": [
    "df2=df2.merge(target,on=\"Match ID\",how=\"left\")\n",
    "df2\n"
   ]
  },
  {
   "cell_type": "code",
   "execution_count": 10,
   "metadata": {},
   "outputs": [
    {
     "data": {
      "text/html": [
       "<div>\n",
       "<style scoped>\n",
       "    .dataframe tbody tr th:only-of-type {\n",
       "        vertical-align: middle;\n",
       "    }\n",
       "\n",
       "    .dataframe tbody tr th {\n",
       "        vertical-align: top;\n",
       "    }\n",
       "\n",
       "    .dataframe thead th {\n",
       "        text-align: right;\n",
       "    }\n",
       "</style>\n",
       "<table border=\"1\" class=\"dataframe\">\n",
       "  <thead>\n",
       "    <tr style=\"text-align: right;\">\n",
       "      <th></th>\n",
       "      <th>Match ID</th>\n",
       "      <th>Over</th>\n",
       "      <th>Ball</th>\n",
       "      <th>Target Score</th>\n",
       "      <th>runs left</th>\n",
       "      <th>balls left</th>\n",
       "      <th>wickets left</th>\n",
       "      <th>crr</th>\n",
       "    </tr>\n",
       "  </thead>\n",
       "  <tbody>\n",
       "    <tr>\n",
       "      <th>0</th>\n",
       "      <td>211028</td>\n",
       "      <td>1</td>\n",
       "      <td>1</td>\n",
       "      <td>180</td>\n",
       "      <td>180</td>\n",
       "      <td>119</td>\n",
       "      <td>10</td>\n",
       "      <td>0.00</td>\n",
       "    </tr>\n",
       "    <tr>\n",
       "      <th>1</th>\n",
       "      <td>211028</td>\n",
       "      <td>1</td>\n",
       "      <td>2</td>\n",
       "      <td>180</td>\n",
       "      <td>176</td>\n",
       "      <td>118</td>\n",
       "      <td>10</td>\n",
       "      <td>12.00</td>\n",
       "    </tr>\n",
       "    <tr>\n",
       "      <th>2</th>\n",
       "      <td>211028</td>\n",
       "      <td>1</td>\n",
       "      <td>3</td>\n",
       "      <td>180</td>\n",
       "      <td>176</td>\n",
       "      <td>117</td>\n",
       "      <td>10</td>\n",
       "      <td>8.00</td>\n",
       "    </tr>\n",
       "    <tr>\n",
       "      <th>3</th>\n",
       "      <td>211028</td>\n",
       "      <td>1</td>\n",
       "      <td>4</td>\n",
       "      <td>180</td>\n",
       "      <td>176</td>\n",
       "      <td>116</td>\n",
       "      <td>10</td>\n",
       "      <td>6.00</td>\n",
       "    </tr>\n",
       "    <tr>\n",
       "      <th>4</th>\n",
       "      <td>211028</td>\n",
       "      <td>1</td>\n",
       "      <td>5</td>\n",
       "      <td>180</td>\n",
       "      <td>172</td>\n",
       "      <td>115</td>\n",
       "      <td>10</td>\n",
       "      <td>9.60</td>\n",
       "    </tr>\n",
       "    <tr>\n",
       "      <th>...</th>\n",
       "      <td>...</td>\n",
       "      <td>...</td>\n",
       "      <td>...</td>\n",
       "      <td>...</td>\n",
       "      <td>...</td>\n",
       "      <td>...</td>\n",
       "      <td>...</td>\n",
       "      <td>...</td>\n",
       "    </tr>\n",
       "    <tr>\n",
       "      <th>98026</th>\n",
       "      <td>1384637</td>\n",
       "      <td>20</td>\n",
       "      <td>2</td>\n",
       "      <td>186</td>\n",
       "      <td>38</td>\n",
       "      <td>4</td>\n",
       "      <td>3</td>\n",
       "      <td>7.66</td>\n",
       "    </tr>\n",
       "    <tr>\n",
       "      <th>98027</th>\n",
       "      <td>1384637</td>\n",
       "      <td>20</td>\n",
       "      <td>3</td>\n",
       "      <td>186</td>\n",
       "      <td>38</td>\n",
       "      <td>3</td>\n",
       "      <td>3</td>\n",
       "      <td>7.59</td>\n",
       "    </tr>\n",
       "    <tr>\n",
       "      <th>98028</th>\n",
       "      <td>1384637</td>\n",
       "      <td>20</td>\n",
       "      <td>4</td>\n",
       "      <td>186</td>\n",
       "      <td>38</td>\n",
       "      <td>2</td>\n",
       "      <td>2</td>\n",
       "      <td>7.53</td>\n",
       "    </tr>\n",
       "    <tr>\n",
       "      <th>98029</th>\n",
       "      <td>1384637</td>\n",
       "      <td>20</td>\n",
       "      <td>5</td>\n",
       "      <td>186</td>\n",
       "      <td>38</td>\n",
       "      <td>1</td>\n",
       "      <td>2</td>\n",
       "      <td>7.46</td>\n",
       "    </tr>\n",
       "    <tr>\n",
       "      <th>98030</th>\n",
       "      <td>1384637</td>\n",
       "      <td>20</td>\n",
       "      <td>6</td>\n",
       "      <td>186</td>\n",
       "      <td>34</td>\n",
       "      <td>0</td>\n",
       "      <td>2</td>\n",
       "      <td>7.60</td>\n",
       "    </tr>\n",
       "  </tbody>\n",
       "</table>\n",
       "<p>98031 rows × 8 columns</p>\n",
       "</div>"
      ],
      "text/plain": [
       "       Match ID  Over  Ball  Target Score  runs left  balls left  \\\n",
       "0        211028     1     1           180        180         119   \n",
       "1        211028     1     2           180        176         118   \n",
       "2        211028     1     3           180        176         117   \n",
       "3        211028     1     4           180        176         116   \n",
       "4        211028     1     5           180        172         115   \n",
       "...         ...   ...   ...           ...        ...         ...   \n",
       "98026   1384637    20     2           186         38           4   \n",
       "98027   1384637    20     3           186         38           3   \n",
       "98028   1384637    20     4           186         38           2   \n",
       "98029   1384637    20     5           186         38           1   \n",
       "98030   1384637    20     6           186         34           0   \n",
       "\n",
       "       wickets left    crr  \n",
       "0                10   0.00  \n",
       "1                10  12.00  \n",
       "2                10   8.00  \n",
       "3                10   6.00  \n",
       "4                10   9.60  \n",
       "...             ...    ...  \n",
       "98026             3   7.66  \n",
       "98027             3   7.59  \n",
       "98028             2   7.53  \n",
       "98029             2   7.46  \n",
       "98030             2   7.60  \n",
       "\n",
       "[98031 rows x 8 columns]"
      ]
     },
     "execution_count": 10,
     "metadata": {},
     "output_type": "execute_result"
    }
   ],
   "source": [
    "df2[\"runs left\"]=df2[\"Target Score\"]-df2[\"current score\"]\n",
    "df2[\"balls left\"]=120-((df2[\"Over\"]-1)*6+df2[\"Ball\"])\n",
    "df2[\"wickets left\"]=10-df2[\"wickets\"]\n",
    "df2[\"crr\"]=round(df2[\"current score\"]*6/((df2[\"Over\"]-1)*6+df2[\"Ball\"]),2)\n",
    "df2.drop(columns=[\"wickets\",\"current score\"],inplace=True)\n",
    "df2"
   ]
  },
  {
   "cell_type": "code",
   "execution_count": 11,
   "metadata": {},
   "outputs": [
    {
     "data": {
      "text/html": [
       "<div>\n",
       "<style scoped>\n",
       "    .dataframe tbody tr th:only-of-type {\n",
       "        vertical-align: middle;\n",
       "    }\n",
       "\n",
       "    .dataframe tbody tr th {\n",
       "        vertical-align: top;\n",
       "    }\n",
       "\n",
       "    .dataframe thead th {\n",
       "        text-align: right;\n",
       "    }\n",
       "</style>\n",
       "<table border=\"1\" class=\"dataframe\">\n",
       "  <thead>\n",
       "    <tr style=\"text-align: right;\">\n",
       "      <th></th>\n",
       "      <th>Match ID</th>\n",
       "      <th>Over</th>\n",
       "      <th>Ball</th>\n",
       "      <th>Target Score</th>\n",
       "      <th>runs left</th>\n",
       "      <th>balls left</th>\n",
       "      <th>wickets left</th>\n",
       "      <th>crr</th>\n",
       "      <th>rrr</th>\n",
       "    </tr>\n",
       "  </thead>\n",
       "  <tbody>\n",
       "    <tr>\n",
       "      <th>0</th>\n",
       "      <td>211028</td>\n",
       "      <td>1</td>\n",
       "      <td>1</td>\n",
       "      <td>180</td>\n",
       "      <td>180</td>\n",
       "      <td>119</td>\n",
       "      <td>10</td>\n",
       "      <td>0.00</td>\n",
       "      <td>9.08</td>\n",
       "    </tr>\n",
       "    <tr>\n",
       "      <th>1</th>\n",
       "      <td>211028</td>\n",
       "      <td>1</td>\n",
       "      <td>2</td>\n",
       "      <td>180</td>\n",
       "      <td>176</td>\n",
       "      <td>118</td>\n",
       "      <td>10</td>\n",
       "      <td>12.00</td>\n",
       "      <td>8.95</td>\n",
       "    </tr>\n",
       "    <tr>\n",
       "      <th>2</th>\n",
       "      <td>211028</td>\n",
       "      <td>1</td>\n",
       "      <td>3</td>\n",
       "      <td>180</td>\n",
       "      <td>176</td>\n",
       "      <td>117</td>\n",
       "      <td>10</td>\n",
       "      <td>8.00</td>\n",
       "      <td>9.03</td>\n",
       "    </tr>\n",
       "    <tr>\n",
       "      <th>3</th>\n",
       "      <td>211028</td>\n",
       "      <td>1</td>\n",
       "      <td>4</td>\n",
       "      <td>180</td>\n",
       "      <td>176</td>\n",
       "      <td>116</td>\n",
       "      <td>10</td>\n",
       "      <td>6.00</td>\n",
       "      <td>9.10</td>\n",
       "    </tr>\n",
       "    <tr>\n",
       "      <th>4</th>\n",
       "      <td>211028</td>\n",
       "      <td>1</td>\n",
       "      <td>5</td>\n",
       "      <td>180</td>\n",
       "      <td>172</td>\n",
       "      <td>115</td>\n",
       "      <td>10</td>\n",
       "      <td>9.60</td>\n",
       "      <td>8.97</td>\n",
       "    </tr>\n",
       "    <tr>\n",
       "      <th>...</th>\n",
       "      <td>...</td>\n",
       "      <td>...</td>\n",
       "      <td>...</td>\n",
       "      <td>...</td>\n",
       "      <td>...</td>\n",
       "      <td>...</td>\n",
       "      <td>...</td>\n",
       "      <td>...</td>\n",
       "      <td>...</td>\n",
       "    </tr>\n",
       "    <tr>\n",
       "      <th>98025</th>\n",
       "      <td>1384637</td>\n",
       "      <td>20</td>\n",
       "      <td>1</td>\n",
       "      <td>186</td>\n",
       "      <td>38</td>\n",
       "      <td>5</td>\n",
       "      <td>3</td>\n",
       "      <td>7.72</td>\n",
       "      <td>45.60</td>\n",
       "    </tr>\n",
       "    <tr>\n",
       "      <th>98026</th>\n",
       "      <td>1384637</td>\n",
       "      <td>20</td>\n",
       "      <td>2</td>\n",
       "      <td>186</td>\n",
       "      <td>38</td>\n",
       "      <td>4</td>\n",
       "      <td>3</td>\n",
       "      <td>7.66</td>\n",
       "      <td>57.00</td>\n",
       "    </tr>\n",
       "    <tr>\n",
       "      <th>98027</th>\n",
       "      <td>1384637</td>\n",
       "      <td>20</td>\n",
       "      <td>3</td>\n",
       "      <td>186</td>\n",
       "      <td>38</td>\n",
       "      <td>3</td>\n",
       "      <td>3</td>\n",
       "      <td>7.59</td>\n",
       "      <td>76.00</td>\n",
       "    </tr>\n",
       "    <tr>\n",
       "      <th>98028</th>\n",
       "      <td>1384637</td>\n",
       "      <td>20</td>\n",
       "      <td>4</td>\n",
       "      <td>186</td>\n",
       "      <td>38</td>\n",
       "      <td>2</td>\n",
       "      <td>2</td>\n",
       "      <td>7.53</td>\n",
       "      <td>114.00</td>\n",
       "    </tr>\n",
       "    <tr>\n",
       "      <th>98029</th>\n",
       "      <td>1384637</td>\n",
       "      <td>20</td>\n",
       "      <td>5</td>\n",
       "      <td>186</td>\n",
       "      <td>38</td>\n",
       "      <td>1</td>\n",
       "      <td>2</td>\n",
       "      <td>7.46</td>\n",
       "      <td>228.00</td>\n",
       "    </tr>\n",
       "  </tbody>\n",
       "</table>\n",
       "<p>97737 rows × 9 columns</p>\n",
       "</div>"
      ],
      "text/plain": [
       "       Match ID  Over  Ball  Target Score  runs left  balls left  \\\n",
       "0        211028     1     1           180        180         119   \n",
       "1        211028     1     2           180        176         118   \n",
       "2        211028     1     3           180        176         117   \n",
       "3        211028     1     4           180        176         116   \n",
       "4        211028     1     5           180        172         115   \n",
       "...         ...   ...   ...           ...        ...         ...   \n",
       "98025   1384637    20     1           186         38           5   \n",
       "98026   1384637    20     2           186         38           4   \n",
       "98027   1384637    20     3           186         38           3   \n",
       "98028   1384637    20     4           186         38           2   \n",
       "98029   1384637    20     5           186         38           1   \n",
       "\n",
       "       wickets left    crr     rrr  \n",
       "0                10   0.00    9.08  \n",
       "1                10  12.00    8.95  \n",
       "2                10   8.00    9.03  \n",
       "3                10   6.00    9.10  \n",
       "4                10   9.60    8.97  \n",
       "...             ...    ...     ...  \n",
       "98025             3   7.72   45.60  \n",
       "98026             3   7.66   57.00  \n",
       "98027             3   7.59   76.00  \n",
       "98028             2   7.53  114.00  \n",
       "98029             2   7.46  228.00  \n",
       "\n",
       "[97737 rows x 9 columns]"
      ]
     },
     "execution_count": 11,
     "metadata": {},
     "output_type": "execute_result"
    }
   ],
   "source": [
    "df2=df2[df2[\"balls left\"]!=0]\n",
    "df2[\"rrr\"]=round(df2[\"runs left\"]*6/df2[\"balls left\"],2)\n",
    "df2"
   ]
  },
  {
   "cell_type": "code",
   "execution_count": 12,
   "metadata": {},
   "outputs": [
    {
     "data": {
      "text/html": [
       "<div>\n",
       "<style scoped>\n",
       "    .dataframe tbody tr th:only-of-type {\n",
       "        vertical-align: middle;\n",
       "    }\n",
       "\n",
       "    .dataframe tbody tr th {\n",
       "        vertical-align: top;\n",
       "    }\n",
       "\n",
       "    .dataframe thead th {\n",
       "        text-align: right;\n",
       "    }\n",
       "</style>\n",
       "<table border=\"1\" class=\"dataframe\">\n",
       "  <thead>\n",
       "    <tr style=\"text-align: right;\">\n",
       "      <th></th>\n",
       "      <th>Match ID</th>\n",
       "      <th>Date</th>\n",
       "      <th>Venue</th>\n",
       "      <th>Bat First</th>\n",
       "      <th>Bat Second</th>\n",
       "    </tr>\n",
       "  </thead>\n",
       "  <tbody>\n",
       "    <tr>\n",
       "      <th>0</th>\n",
       "      <td>1339605</td>\n",
       "      <td>2023-03-26</td>\n",
       "      <td>SuperSport Park</td>\n",
       "      <td>West Indies</td>\n",
       "      <td>South Africa</td>\n",
       "    </tr>\n",
       "    <tr>\n",
       "      <th>1151</th>\n",
       "      <td>356009</td>\n",
       "      <td>2009-06-14</td>\n",
       "      <td>Lord's</td>\n",
       "      <td>Sri Lanka</td>\n",
       "      <td>Ireland</td>\n",
       "    </tr>\n",
       "    <tr>\n",
       "      <th>1750</th>\n",
       "      <td>1072317</td>\n",
       "      <td>2018-02-07</td>\n",
       "      <td>Bellerive Oval</td>\n",
       "      <td>England</td>\n",
       "      <td>Australia</td>\n",
       "    </tr>\n",
       "    <tr>\n",
       "      <th>2482</th>\n",
       "      <td>533283</td>\n",
       "      <td>2012-09-25</td>\n",
       "      <td>Pallekele International Cricket Stadium</td>\n",
       "      <td>Bangladesh</td>\n",
       "      <td>Pakistan</td>\n",
       "    </tr>\n",
       "    <tr>\n",
       "      <th>2940</th>\n",
       "      <td>1262759</td>\n",
       "      <td>2021-07-28</td>\n",
       "      <td>R Premadasa Stadium</td>\n",
       "      <td>India</td>\n",
       "      <td>Sri Lanka</td>\n",
       "    </tr>\n",
       "    <tr>\n",
       "      <th>...</th>\n",
       "      <td>...</td>\n",
       "      <td>...</td>\n",
       "      <td>...</td>\n",
       "      <td>...</td>\n",
       "      <td>...</td>\n",
       "    </tr>\n",
       "    <tr>\n",
       "      <th>423368</th>\n",
       "      <td>1119543</td>\n",
       "      <td>2018-07-03</td>\n",
       "      <td>Old Trafford</td>\n",
       "      <td>England</td>\n",
       "      <td>India</td>\n",
       "    </tr>\n",
       "    <tr>\n",
       "      <th>424188</th>\n",
       "      <td>1298178</td>\n",
       "      <td>2022-11-10</td>\n",
       "      <td>Adelaide Oval</td>\n",
       "      <td>India</td>\n",
       "      <td>England</td>\n",
       "    </tr>\n",
       "    <tr>\n",
       "      <th>424410</th>\n",
       "      <td>426724</td>\n",
       "      <td>2009-11-13</td>\n",
       "      <td>Dubai International Cricket Stadium</td>\n",
       "      <td>Pakistan</td>\n",
       "      <td>New Zealand</td>\n",
       "    </tr>\n",
       "    <tr>\n",
       "      <th>424660</th>\n",
       "      <td>682919</td>\n",
       "      <td>2014-03-21</td>\n",
       "      <td>Sylhet Stadium</td>\n",
       "      <td>Ireland</td>\n",
       "      <td>Netherlands</td>\n",
       "    </tr>\n",
       "    <tr>\n",
       "      <th>424865</th>\n",
       "      <td>1187667</td>\n",
       "      <td>2019-11-05</td>\n",
       "      <td>Saxton Oval</td>\n",
       "      <td>New Zealand</td>\n",
       "      <td>England</td>\n",
       "    </tr>\n",
       "  </tbody>\n",
       "</table>\n",
       "<p>907 rows × 5 columns</p>\n",
       "</div>"
      ],
      "text/plain": [
       "        Match ID        Date                                    Venue  \\\n",
       "0        1339605  2023-03-26                          SuperSport Park   \n",
       "1151      356009  2009-06-14                                   Lord's   \n",
       "1750     1072317  2018-02-07                           Bellerive Oval   \n",
       "2482      533283  2012-09-25  Pallekele International Cricket Stadium   \n",
       "2940     1262759  2021-07-28                      R Premadasa Stadium   \n",
       "...          ...         ...                                      ...   \n",
       "423368   1119543  2018-07-03                             Old Trafford   \n",
       "424188   1298178  2022-11-10                            Adelaide Oval   \n",
       "424410    426724  2009-11-13      Dubai International Cricket Stadium   \n",
       "424660    682919  2014-03-21                           Sylhet Stadium   \n",
       "424865   1187667  2019-11-05                              Saxton Oval   \n",
       "\n",
       "          Bat First    Bat Second  \n",
       "0       West Indies  South Africa  \n",
       "1151      Sri Lanka       Ireland  \n",
       "1750        England     Australia  \n",
       "2482     Bangladesh      Pakistan  \n",
       "2940          India     Sri Lanka  \n",
       "...             ...           ...  \n",
       "423368      England         India  \n",
       "424188        India       England  \n",
       "424410     Pakistan   New Zealand  \n",
       "424660      Ireland   Netherlands  \n",
       "424865  New Zealand       England  \n",
       "\n",
       "[907 rows x 5 columns]"
      ]
     },
     "execution_count": 12,
     "metadata": {},
     "output_type": "execute_result"
    }
   ],
   "source": [
    "match_details=df[['Match ID', 'Date', 'Venue', 'Bat First', 'Bat Second']]\n",
    "match_details.drop_duplicates(inplace=True)\n",
    "match_details"
   ]
  },
  {
   "cell_type": "code",
   "execution_count": 13,
   "metadata": {},
   "outputs": [
    {
     "data": {
      "text/html": [
       "<div>\n",
       "<style scoped>\n",
       "    .dataframe tbody tr th:only-of-type {\n",
       "        vertical-align: middle;\n",
       "    }\n",
       "\n",
       "    .dataframe tbody tr th {\n",
       "        vertical-align: top;\n",
       "    }\n",
       "\n",
       "    .dataframe thead th {\n",
       "        text-align: right;\n",
       "    }\n",
       "</style>\n",
       "<table border=\"1\" class=\"dataframe\">\n",
       "  <thead>\n",
       "    <tr style=\"text-align: right;\">\n",
       "      <th></th>\n",
       "      <th>Match ID</th>\n",
       "      <th>Date</th>\n",
       "      <th>Venue</th>\n",
       "      <th>Bat First</th>\n",
       "      <th>Bat Second</th>\n",
       "      <th>Over</th>\n",
       "      <th>Ball</th>\n",
       "      <th>Target Score</th>\n",
       "      <th>runs left</th>\n",
       "      <th>balls left</th>\n",
       "      <th>wickets left</th>\n",
       "      <th>crr</th>\n",
       "      <th>rrr</th>\n",
       "    </tr>\n",
       "  </thead>\n",
       "  <tbody>\n",
       "    <tr>\n",
       "      <th>0</th>\n",
       "      <td>211028</td>\n",
       "      <td>2005-06-13</td>\n",
       "      <td>The Rose Bowl</td>\n",
       "      <td>England</td>\n",
       "      <td>Australia</td>\n",
       "      <td>1</td>\n",
       "      <td>1</td>\n",
       "      <td>180</td>\n",
       "      <td>180</td>\n",
       "      <td>119</td>\n",
       "      <td>10</td>\n",
       "      <td>0.00</td>\n",
       "      <td>9.08</td>\n",
       "    </tr>\n",
       "    <tr>\n",
       "      <th>1</th>\n",
       "      <td>211028</td>\n",
       "      <td>2005-06-13</td>\n",
       "      <td>The Rose Bowl</td>\n",
       "      <td>England</td>\n",
       "      <td>Australia</td>\n",
       "      <td>1</td>\n",
       "      <td>2</td>\n",
       "      <td>180</td>\n",
       "      <td>176</td>\n",
       "      <td>118</td>\n",
       "      <td>10</td>\n",
       "      <td>12.00</td>\n",
       "      <td>8.95</td>\n",
       "    </tr>\n",
       "    <tr>\n",
       "      <th>2</th>\n",
       "      <td>211028</td>\n",
       "      <td>2005-06-13</td>\n",
       "      <td>The Rose Bowl</td>\n",
       "      <td>England</td>\n",
       "      <td>Australia</td>\n",
       "      <td>1</td>\n",
       "      <td>3</td>\n",
       "      <td>180</td>\n",
       "      <td>176</td>\n",
       "      <td>117</td>\n",
       "      <td>10</td>\n",
       "      <td>8.00</td>\n",
       "      <td>9.03</td>\n",
       "    </tr>\n",
       "    <tr>\n",
       "      <th>3</th>\n",
       "      <td>211028</td>\n",
       "      <td>2005-06-13</td>\n",
       "      <td>The Rose Bowl</td>\n",
       "      <td>England</td>\n",
       "      <td>Australia</td>\n",
       "      <td>1</td>\n",
       "      <td>4</td>\n",
       "      <td>180</td>\n",
       "      <td>176</td>\n",
       "      <td>116</td>\n",
       "      <td>10</td>\n",
       "      <td>6.00</td>\n",
       "      <td>9.10</td>\n",
       "    </tr>\n",
       "    <tr>\n",
       "      <th>4</th>\n",
       "      <td>211028</td>\n",
       "      <td>2005-06-13</td>\n",
       "      <td>The Rose Bowl</td>\n",
       "      <td>England</td>\n",
       "      <td>Australia</td>\n",
       "      <td>1</td>\n",
       "      <td>5</td>\n",
       "      <td>180</td>\n",
       "      <td>172</td>\n",
       "      <td>115</td>\n",
       "      <td>10</td>\n",
       "      <td>9.60</td>\n",
       "      <td>8.97</td>\n",
       "    </tr>\n",
       "    <tr>\n",
       "      <th>...</th>\n",
       "      <td>...</td>\n",
       "      <td>...</td>\n",
       "      <td>...</td>\n",
       "      <td>...</td>\n",
       "      <td>...</td>\n",
       "      <td>...</td>\n",
       "      <td>...</td>\n",
       "      <td>...</td>\n",
       "      <td>...</td>\n",
       "      <td>...</td>\n",
       "      <td>...</td>\n",
       "      <td>...</td>\n",
       "      <td>...</td>\n",
       "    </tr>\n",
       "    <tr>\n",
       "      <th>97732</th>\n",
       "      <td>1384637</td>\n",
       "      <td>2023-08-20</td>\n",
       "      <td>Malahide</td>\n",
       "      <td>India</td>\n",
       "      <td>Ireland</td>\n",
       "      <td>20</td>\n",
       "      <td>1</td>\n",
       "      <td>186</td>\n",
       "      <td>38</td>\n",
       "      <td>5</td>\n",
       "      <td>3</td>\n",
       "      <td>7.72</td>\n",
       "      <td>45.60</td>\n",
       "    </tr>\n",
       "    <tr>\n",
       "      <th>97733</th>\n",
       "      <td>1384637</td>\n",
       "      <td>2023-08-20</td>\n",
       "      <td>Malahide</td>\n",
       "      <td>India</td>\n",
       "      <td>Ireland</td>\n",
       "      <td>20</td>\n",
       "      <td>2</td>\n",
       "      <td>186</td>\n",
       "      <td>38</td>\n",
       "      <td>4</td>\n",
       "      <td>3</td>\n",
       "      <td>7.66</td>\n",
       "      <td>57.00</td>\n",
       "    </tr>\n",
       "    <tr>\n",
       "      <th>97734</th>\n",
       "      <td>1384637</td>\n",
       "      <td>2023-08-20</td>\n",
       "      <td>Malahide</td>\n",
       "      <td>India</td>\n",
       "      <td>Ireland</td>\n",
       "      <td>20</td>\n",
       "      <td>3</td>\n",
       "      <td>186</td>\n",
       "      <td>38</td>\n",
       "      <td>3</td>\n",
       "      <td>3</td>\n",
       "      <td>7.59</td>\n",
       "      <td>76.00</td>\n",
       "    </tr>\n",
       "    <tr>\n",
       "      <th>97735</th>\n",
       "      <td>1384637</td>\n",
       "      <td>2023-08-20</td>\n",
       "      <td>Malahide</td>\n",
       "      <td>India</td>\n",
       "      <td>Ireland</td>\n",
       "      <td>20</td>\n",
       "      <td>4</td>\n",
       "      <td>186</td>\n",
       "      <td>38</td>\n",
       "      <td>2</td>\n",
       "      <td>2</td>\n",
       "      <td>7.53</td>\n",
       "      <td>114.00</td>\n",
       "    </tr>\n",
       "    <tr>\n",
       "      <th>97736</th>\n",
       "      <td>1384637</td>\n",
       "      <td>2023-08-20</td>\n",
       "      <td>Malahide</td>\n",
       "      <td>India</td>\n",
       "      <td>Ireland</td>\n",
       "      <td>20</td>\n",
       "      <td>5</td>\n",
       "      <td>186</td>\n",
       "      <td>38</td>\n",
       "      <td>1</td>\n",
       "      <td>2</td>\n",
       "      <td>7.46</td>\n",
       "      <td>228.00</td>\n",
       "    </tr>\n",
       "  </tbody>\n",
       "</table>\n",
       "<p>97737 rows × 13 columns</p>\n",
       "</div>"
      ],
      "text/plain": [
       "       Match ID        Date          Venue Bat First Bat Second  Over  Ball  \\\n",
       "0        211028  2005-06-13  The Rose Bowl   England  Australia     1     1   \n",
       "1        211028  2005-06-13  The Rose Bowl   England  Australia     1     2   \n",
       "2        211028  2005-06-13  The Rose Bowl   England  Australia     1     3   \n",
       "3        211028  2005-06-13  The Rose Bowl   England  Australia     1     4   \n",
       "4        211028  2005-06-13  The Rose Bowl   England  Australia     1     5   \n",
       "...         ...         ...            ...       ...        ...   ...   ...   \n",
       "97732   1384637  2023-08-20       Malahide     India    Ireland    20     1   \n",
       "97733   1384637  2023-08-20       Malahide     India    Ireland    20     2   \n",
       "97734   1384637  2023-08-20       Malahide     India    Ireland    20     3   \n",
       "97735   1384637  2023-08-20       Malahide     India    Ireland    20     4   \n",
       "97736   1384637  2023-08-20       Malahide     India    Ireland    20     5   \n",
       "\n",
       "       Target Score  runs left  balls left  wickets left    crr     rrr  \n",
       "0               180        180         119            10   0.00    9.08  \n",
       "1               180        176         118            10  12.00    8.95  \n",
       "2               180        176         117            10   8.00    9.03  \n",
       "3               180        176         116            10   6.00    9.10  \n",
       "4               180        172         115            10   9.60    8.97  \n",
       "...             ...        ...         ...           ...    ...     ...  \n",
       "97732           186         38           5             3   7.72   45.60  \n",
       "97733           186         38           4             3   7.66   57.00  \n",
       "97734           186         38           3             3   7.59   76.00  \n",
       "97735           186         38           2             2   7.53  114.00  \n",
       "97736           186         38           1             2   7.46  228.00  \n",
       "\n",
       "[97737 rows x 13 columns]"
      ]
     },
     "execution_count": 13,
     "metadata": {},
     "output_type": "execute_result"
    }
   ],
   "source": [
    "df2=match_details.merge(df2,on=\"Match ID\",how=\"right\")\n",
    "df2"
   ]
  },
  {
   "cell_type": "code",
   "execution_count": 14,
   "metadata": {},
   "outputs": [
    {
     "data": {
      "text/html": [
       "<div>\n",
       "<style scoped>\n",
       "    .dataframe tbody tr th:only-of-type {\n",
       "        vertical-align: middle;\n",
       "    }\n",
       "\n",
       "    .dataframe tbody tr th {\n",
       "        vertical-align: top;\n",
       "    }\n",
       "\n",
       "    .dataframe thead th {\n",
       "        text-align: right;\n",
       "    }\n",
       "</style>\n",
       "<table border=\"1\" class=\"dataframe\">\n",
       "  <thead>\n",
       "    <tr style=\"text-align: right;\">\n",
       "      <th></th>\n",
       "      <th>Match ID</th>\n",
       "      <th>Date</th>\n",
       "      <th>Venue</th>\n",
       "      <th>Bat First</th>\n",
       "      <th>Bat Second</th>\n",
       "      <th>Over</th>\n",
       "      <th>Ball</th>\n",
       "      <th>Target Score</th>\n",
       "      <th>runs left</th>\n",
       "      <th>balls left</th>\n",
       "      <th>wickets left</th>\n",
       "      <th>crr</th>\n",
       "      <th>rrr</th>\n",
       "      <th>Chased Successfully</th>\n",
       "    </tr>\n",
       "  </thead>\n",
       "  <tbody>\n",
       "    <tr>\n",
       "      <th>0</th>\n",
       "      <td>211028</td>\n",
       "      <td>2005-06-13</td>\n",
       "      <td>The Rose Bowl</td>\n",
       "      <td>England</td>\n",
       "      <td>Australia</td>\n",
       "      <td>1</td>\n",
       "      <td>1</td>\n",
       "      <td>180</td>\n",
       "      <td>180</td>\n",
       "      <td>119</td>\n",
       "      <td>10</td>\n",
       "      <td>0.00</td>\n",
       "      <td>9.08</td>\n",
       "      <td>0</td>\n",
       "    </tr>\n",
       "    <tr>\n",
       "      <th>1</th>\n",
       "      <td>211028</td>\n",
       "      <td>2005-06-13</td>\n",
       "      <td>The Rose Bowl</td>\n",
       "      <td>England</td>\n",
       "      <td>Australia</td>\n",
       "      <td>1</td>\n",
       "      <td>2</td>\n",
       "      <td>180</td>\n",
       "      <td>176</td>\n",
       "      <td>118</td>\n",
       "      <td>10</td>\n",
       "      <td>12.00</td>\n",
       "      <td>8.95</td>\n",
       "      <td>0</td>\n",
       "    </tr>\n",
       "    <tr>\n",
       "      <th>2</th>\n",
       "      <td>211028</td>\n",
       "      <td>2005-06-13</td>\n",
       "      <td>The Rose Bowl</td>\n",
       "      <td>England</td>\n",
       "      <td>Australia</td>\n",
       "      <td>1</td>\n",
       "      <td>3</td>\n",
       "      <td>180</td>\n",
       "      <td>176</td>\n",
       "      <td>117</td>\n",
       "      <td>10</td>\n",
       "      <td>8.00</td>\n",
       "      <td>9.03</td>\n",
       "      <td>0</td>\n",
       "    </tr>\n",
       "    <tr>\n",
       "      <th>3</th>\n",
       "      <td>211028</td>\n",
       "      <td>2005-06-13</td>\n",
       "      <td>The Rose Bowl</td>\n",
       "      <td>England</td>\n",
       "      <td>Australia</td>\n",
       "      <td>1</td>\n",
       "      <td>4</td>\n",
       "      <td>180</td>\n",
       "      <td>176</td>\n",
       "      <td>116</td>\n",
       "      <td>10</td>\n",
       "      <td>6.00</td>\n",
       "      <td>9.10</td>\n",
       "      <td>0</td>\n",
       "    </tr>\n",
       "    <tr>\n",
       "      <th>4</th>\n",
       "      <td>211028</td>\n",
       "      <td>2005-06-13</td>\n",
       "      <td>The Rose Bowl</td>\n",
       "      <td>England</td>\n",
       "      <td>Australia</td>\n",
       "      <td>1</td>\n",
       "      <td>5</td>\n",
       "      <td>180</td>\n",
       "      <td>172</td>\n",
       "      <td>115</td>\n",
       "      <td>10</td>\n",
       "      <td>9.60</td>\n",
       "      <td>8.97</td>\n",
       "      <td>0</td>\n",
       "    </tr>\n",
       "    <tr>\n",
       "      <th>...</th>\n",
       "      <td>...</td>\n",
       "      <td>...</td>\n",
       "      <td>...</td>\n",
       "      <td>...</td>\n",
       "      <td>...</td>\n",
       "      <td>...</td>\n",
       "      <td>...</td>\n",
       "      <td>...</td>\n",
       "      <td>...</td>\n",
       "      <td>...</td>\n",
       "      <td>...</td>\n",
       "      <td>...</td>\n",
       "      <td>...</td>\n",
       "      <td>...</td>\n",
       "    </tr>\n",
       "    <tr>\n",
       "      <th>97732</th>\n",
       "      <td>1384637</td>\n",
       "      <td>2023-08-20</td>\n",
       "      <td>Malahide</td>\n",
       "      <td>India</td>\n",
       "      <td>Ireland</td>\n",
       "      <td>20</td>\n",
       "      <td>1</td>\n",
       "      <td>186</td>\n",
       "      <td>38</td>\n",
       "      <td>5</td>\n",
       "      <td>3</td>\n",
       "      <td>7.72</td>\n",
       "      <td>45.60</td>\n",
       "      <td>0</td>\n",
       "    </tr>\n",
       "    <tr>\n",
       "      <th>97733</th>\n",
       "      <td>1384637</td>\n",
       "      <td>2023-08-20</td>\n",
       "      <td>Malahide</td>\n",
       "      <td>India</td>\n",
       "      <td>Ireland</td>\n",
       "      <td>20</td>\n",
       "      <td>2</td>\n",
       "      <td>186</td>\n",
       "      <td>38</td>\n",
       "      <td>4</td>\n",
       "      <td>3</td>\n",
       "      <td>7.66</td>\n",
       "      <td>57.00</td>\n",
       "      <td>0</td>\n",
       "    </tr>\n",
       "    <tr>\n",
       "      <th>97734</th>\n",
       "      <td>1384637</td>\n",
       "      <td>2023-08-20</td>\n",
       "      <td>Malahide</td>\n",
       "      <td>India</td>\n",
       "      <td>Ireland</td>\n",
       "      <td>20</td>\n",
       "      <td>3</td>\n",
       "      <td>186</td>\n",
       "      <td>38</td>\n",
       "      <td>3</td>\n",
       "      <td>3</td>\n",
       "      <td>7.59</td>\n",
       "      <td>76.00</td>\n",
       "      <td>0</td>\n",
       "    </tr>\n",
       "    <tr>\n",
       "      <th>97735</th>\n",
       "      <td>1384637</td>\n",
       "      <td>2023-08-20</td>\n",
       "      <td>Malahide</td>\n",
       "      <td>India</td>\n",
       "      <td>Ireland</td>\n",
       "      <td>20</td>\n",
       "      <td>4</td>\n",
       "      <td>186</td>\n",
       "      <td>38</td>\n",
       "      <td>2</td>\n",
       "      <td>2</td>\n",
       "      <td>7.53</td>\n",
       "      <td>114.00</td>\n",
       "      <td>0</td>\n",
       "    </tr>\n",
       "    <tr>\n",
       "      <th>97736</th>\n",
       "      <td>1384637</td>\n",
       "      <td>2023-08-20</td>\n",
       "      <td>Malahide</td>\n",
       "      <td>India</td>\n",
       "      <td>Ireland</td>\n",
       "      <td>20</td>\n",
       "      <td>5</td>\n",
       "      <td>186</td>\n",
       "      <td>38</td>\n",
       "      <td>1</td>\n",
       "      <td>2</td>\n",
       "      <td>7.46</td>\n",
       "      <td>228.00</td>\n",
       "      <td>0</td>\n",
       "    </tr>\n",
       "  </tbody>\n",
       "</table>\n",
       "<p>97737 rows × 14 columns</p>\n",
       "</div>"
      ],
      "text/plain": [
       "       Match ID        Date          Venue Bat First Bat Second  Over  Ball  \\\n",
       "0        211028  2005-06-13  The Rose Bowl   England  Australia     1     1   \n",
       "1        211028  2005-06-13  The Rose Bowl   England  Australia     1     2   \n",
       "2        211028  2005-06-13  The Rose Bowl   England  Australia     1     3   \n",
       "3        211028  2005-06-13  The Rose Bowl   England  Australia     1     4   \n",
       "4        211028  2005-06-13  The Rose Bowl   England  Australia     1     5   \n",
       "...         ...         ...            ...       ...        ...   ...   ...   \n",
       "97732   1384637  2023-08-20       Malahide     India    Ireland    20     1   \n",
       "97733   1384637  2023-08-20       Malahide     India    Ireland    20     2   \n",
       "97734   1384637  2023-08-20       Malahide     India    Ireland    20     3   \n",
       "97735   1384637  2023-08-20       Malahide     India    Ireland    20     4   \n",
       "97736   1384637  2023-08-20       Malahide     India    Ireland    20     5   \n",
       "\n",
       "       Target Score  runs left  balls left  wickets left    crr     rrr  \\\n",
       "0               180        180         119            10   0.00    9.08   \n",
       "1               180        176         118            10  12.00    8.95   \n",
       "2               180        176         117            10   8.00    9.03   \n",
       "3               180        176         116            10   6.00    9.10   \n",
       "4               180        172         115            10   9.60    8.97   \n",
       "...             ...        ...         ...           ...    ...     ...   \n",
       "97732           186         38           5             3   7.72   45.60   \n",
       "97733           186         38           4             3   7.66   57.00   \n",
       "97734           186         38           3             3   7.59   76.00   \n",
       "97735           186         38           2             2   7.53  114.00   \n",
       "97736           186         38           1             2   7.46  228.00   \n",
       "\n",
       "       Chased Successfully  \n",
       "0                        0  \n",
       "1                        0  \n",
       "2                        0  \n",
       "3                        0  \n",
       "4                        0  \n",
       "...                    ...  \n",
       "97732                    0  \n",
       "97733                    0  \n",
       "97734                    0  \n",
       "97735                    0  \n",
       "97736                    0  \n",
       "\n",
       "[97737 rows x 14 columns]"
      ]
     },
     "execution_count": 14,
     "metadata": {},
     "output_type": "execute_result"
    }
   ],
   "source": [
    "res=df[[\"Match ID\",'Chased Successfully']]\n",
    "res.drop_duplicates(inplace=True)\n",
    "df2=df2.merge(res,on=\"Match ID\",how=\"left\")\n",
    "df2"
   ]
  },
  {
   "cell_type": "code",
   "execution_count": 15,
   "metadata": {},
   "outputs": [
    {
     "data": {
      "text/html": [
       "<div>\n",
       "<style scoped>\n",
       "    .dataframe tbody tr th:only-of-type {\n",
       "        vertical-align: middle;\n",
       "    }\n",
       "\n",
       "    .dataframe tbody tr th {\n",
       "        vertical-align: top;\n",
       "    }\n",
       "\n",
       "    .dataframe thead th {\n",
       "        text-align: right;\n",
       "    }\n",
       "</style>\n",
       "<table border=\"1\" class=\"dataframe\">\n",
       "  <thead>\n",
       "    <tr style=\"text-align: right;\">\n",
       "      <th></th>\n",
       "      <th>Venue</th>\n",
       "      <th>Bat First</th>\n",
       "      <th>Bat Second</th>\n",
       "      <th>runs left</th>\n",
       "      <th>balls left</th>\n",
       "      <th>wickets left</th>\n",
       "      <th>crr</th>\n",
       "      <th>rrr</th>\n",
       "      <th>result</th>\n",
       "    </tr>\n",
       "  </thead>\n",
       "  <tbody>\n",
       "    <tr>\n",
       "      <th>0</th>\n",
       "      <td>The Rose Bowl</td>\n",
       "      <td>England</td>\n",
       "      <td>Australia</td>\n",
       "      <td>180</td>\n",
       "      <td>119</td>\n",
       "      <td>10</td>\n",
       "      <td>0.00</td>\n",
       "      <td>9.08</td>\n",
       "      <td>0</td>\n",
       "    </tr>\n",
       "    <tr>\n",
       "      <th>1</th>\n",
       "      <td>The Rose Bowl</td>\n",
       "      <td>England</td>\n",
       "      <td>Australia</td>\n",
       "      <td>176</td>\n",
       "      <td>118</td>\n",
       "      <td>10</td>\n",
       "      <td>12.00</td>\n",
       "      <td>8.95</td>\n",
       "      <td>0</td>\n",
       "    </tr>\n",
       "    <tr>\n",
       "      <th>2</th>\n",
       "      <td>The Rose Bowl</td>\n",
       "      <td>England</td>\n",
       "      <td>Australia</td>\n",
       "      <td>176</td>\n",
       "      <td>117</td>\n",
       "      <td>10</td>\n",
       "      <td>8.00</td>\n",
       "      <td>9.03</td>\n",
       "      <td>0</td>\n",
       "    </tr>\n",
       "    <tr>\n",
       "      <th>3</th>\n",
       "      <td>The Rose Bowl</td>\n",
       "      <td>England</td>\n",
       "      <td>Australia</td>\n",
       "      <td>176</td>\n",
       "      <td>116</td>\n",
       "      <td>10</td>\n",
       "      <td>6.00</td>\n",
       "      <td>9.10</td>\n",
       "      <td>0</td>\n",
       "    </tr>\n",
       "    <tr>\n",
       "      <th>4</th>\n",
       "      <td>The Rose Bowl</td>\n",
       "      <td>England</td>\n",
       "      <td>Australia</td>\n",
       "      <td>172</td>\n",
       "      <td>115</td>\n",
       "      <td>10</td>\n",
       "      <td>9.60</td>\n",
       "      <td>8.97</td>\n",
       "      <td>0</td>\n",
       "    </tr>\n",
       "    <tr>\n",
       "      <th>...</th>\n",
       "      <td>...</td>\n",
       "      <td>...</td>\n",
       "      <td>...</td>\n",
       "      <td>...</td>\n",
       "      <td>...</td>\n",
       "      <td>...</td>\n",
       "      <td>...</td>\n",
       "      <td>...</td>\n",
       "      <td>...</td>\n",
       "    </tr>\n",
       "    <tr>\n",
       "      <th>97732</th>\n",
       "      <td>Malahide</td>\n",
       "      <td>India</td>\n",
       "      <td>Ireland</td>\n",
       "      <td>38</td>\n",
       "      <td>5</td>\n",
       "      <td>3</td>\n",
       "      <td>7.72</td>\n",
       "      <td>45.60</td>\n",
       "      <td>0</td>\n",
       "    </tr>\n",
       "    <tr>\n",
       "      <th>97733</th>\n",
       "      <td>Malahide</td>\n",
       "      <td>India</td>\n",
       "      <td>Ireland</td>\n",
       "      <td>38</td>\n",
       "      <td>4</td>\n",
       "      <td>3</td>\n",
       "      <td>7.66</td>\n",
       "      <td>57.00</td>\n",
       "      <td>0</td>\n",
       "    </tr>\n",
       "    <tr>\n",
       "      <th>97734</th>\n",
       "      <td>Malahide</td>\n",
       "      <td>India</td>\n",
       "      <td>Ireland</td>\n",
       "      <td>38</td>\n",
       "      <td>3</td>\n",
       "      <td>3</td>\n",
       "      <td>7.59</td>\n",
       "      <td>76.00</td>\n",
       "      <td>0</td>\n",
       "    </tr>\n",
       "    <tr>\n",
       "      <th>97735</th>\n",
       "      <td>Malahide</td>\n",
       "      <td>India</td>\n",
       "      <td>Ireland</td>\n",
       "      <td>38</td>\n",
       "      <td>2</td>\n",
       "      <td>2</td>\n",
       "      <td>7.53</td>\n",
       "      <td>114.00</td>\n",
       "      <td>0</td>\n",
       "    </tr>\n",
       "    <tr>\n",
       "      <th>97736</th>\n",
       "      <td>Malahide</td>\n",
       "      <td>India</td>\n",
       "      <td>Ireland</td>\n",
       "      <td>38</td>\n",
       "      <td>1</td>\n",
       "      <td>2</td>\n",
       "      <td>7.46</td>\n",
       "      <td>228.00</td>\n",
       "      <td>0</td>\n",
       "    </tr>\n",
       "  </tbody>\n",
       "</table>\n",
       "<p>97737 rows × 9 columns</p>\n",
       "</div>"
      ],
      "text/plain": [
       "               Venue Bat First Bat Second  runs left  balls left  \\\n",
       "0      The Rose Bowl   England  Australia        180         119   \n",
       "1      The Rose Bowl   England  Australia        176         118   \n",
       "2      The Rose Bowl   England  Australia        176         117   \n",
       "3      The Rose Bowl   England  Australia        176         116   \n",
       "4      The Rose Bowl   England  Australia        172         115   \n",
       "...              ...       ...        ...        ...         ...   \n",
       "97732       Malahide     India    Ireland         38           5   \n",
       "97733       Malahide     India    Ireland         38           4   \n",
       "97734       Malahide     India    Ireland         38           3   \n",
       "97735       Malahide     India    Ireland         38           2   \n",
       "97736       Malahide     India    Ireland         38           1   \n",
       "\n",
       "       wickets left    crr     rrr  result  \n",
       "0                10   0.00    9.08       0  \n",
       "1                10  12.00    8.95       0  \n",
       "2                10   8.00    9.03       0  \n",
       "3                10   6.00    9.10       0  \n",
       "4                10   9.60    8.97       0  \n",
       "...             ...    ...     ...     ...  \n",
       "97732             3   7.72   45.60       0  \n",
       "97733             3   7.66   57.00       0  \n",
       "97734             3   7.59   76.00       0  \n",
       "97735             2   7.53  114.00       0  \n",
       "97736             2   7.46  228.00       0  \n",
       "\n",
       "[97737 rows x 9 columns]"
      ]
     },
     "execution_count": 15,
     "metadata": {},
     "output_type": "execute_result"
    }
   ],
   "source": [
    "pure=df2.drop(columns=[ 'Over', 'Ball','Target Score',\"Match ID\",'Date'])\n",
    "pure.rename(columns={\"Chased Successfully\":\"result\"},inplace=True)\n",
    "pure"
   ]
  },
  {
   "cell_type": "code",
   "execution_count": 16,
   "metadata": {},
   "outputs": [],
   "source": [
    "pure.to_csv(\"model training dataset.csv\")"
   ]
  },
  {
   "cell_type": "code",
   "execution_count": 17,
   "metadata": {},
   "outputs": [
    {
     "data": {
      "text/html": [
       "<div>\n",
       "<style scoped>\n",
       "    .dataframe tbody tr th:only-of-type {\n",
       "        vertical-align: middle;\n",
       "    }\n",
       "\n",
       "    .dataframe tbody tr th {\n",
       "        vertical-align: top;\n",
       "    }\n",
       "\n",
       "    .dataframe thead th {\n",
       "        text-align: right;\n",
       "    }\n",
       "</style>\n",
       "<table border=\"1\" class=\"dataframe\">\n",
       "  <thead>\n",
       "    <tr style=\"text-align: right;\">\n",
       "      <th></th>\n",
       "      <th>runs left</th>\n",
       "      <th>balls left</th>\n",
       "      <th>wickets left</th>\n",
       "      <th>crr</th>\n",
       "      <th>rrr</th>\n",
       "    </tr>\n",
       "  </thead>\n",
       "  <tbody>\n",
       "    <tr>\n",
       "      <th>count</th>\n",
       "      <td>97737.000000</td>\n",
       "      <td>97737.000000</td>\n",
       "      <td>97737.00000</td>\n",
       "      <td>97737.000000</td>\n",
       "      <td>97737.000000</td>\n",
       "    </tr>\n",
       "    <tr>\n",
       "      <th>mean</th>\n",
       "      <td>92.280661</td>\n",
       "      <td>64.286504</td>\n",
       "      <td>7.26469</td>\n",
       "      <td>7.335667</td>\n",
       "      <td>10.443846</td>\n",
       "    </tr>\n",
       "    <tr>\n",
       "      <th>std</th>\n",
       "      <td>49.656606</td>\n",
       "      <td>32.806349</td>\n",
       "      <td>2.30095</td>\n",
       "      <td>2.451207</td>\n",
       "      <td>13.907903</td>\n",
       "    </tr>\n",
       "    <tr>\n",
       "      <th>min</th>\n",
       "      <td>-18.000000</td>\n",
       "      <td>1.000000</td>\n",
       "      <td>-1.00000</td>\n",
       "      <td>0.000000</td>\n",
       "      <td>-24.000000</td>\n",
       "    </tr>\n",
       "    <tr>\n",
       "      <th>25%</th>\n",
       "      <td>53.000000</td>\n",
       "      <td>37.000000</td>\n",
       "      <td>6.00000</td>\n",
       "      <td>6.000000</td>\n",
       "      <td>6.740000</td>\n",
       "    </tr>\n",
       "    <tr>\n",
       "      <th>50%</th>\n",
       "      <td>91.000000</td>\n",
       "      <td>65.000000</td>\n",
       "      <td>8.00000</td>\n",
       "      <td>7.250000</td>\n",
       "      <td>8.710000</td>\n",
       "    </tr>\n",
       "    <tr>\n",
       "      <th>75%</th>\n",
       "      <td>128.000000</td>\n",
       "      <td>93.000000</td>\n",
       "      <td>9.00000</td>\n",
       "      <td>8.620000</td>\n",
       "      <td>10.970000</td>\n",
       "    </tr>\n",
       "    <tr>\n",
       "      <th>max</th>\n",
       "      <td>273.000000</td>\n",
       "      <td>119.000000</td>\n",
       "      <td>10.00000</td>\n",
       "      <td>60.000000</td>\n",
       "      <td>822.000000</td>\n",
       "    </tr>\n",
       "  </tbody>\n",
       "</table>\n",
       "</div>"
      ],
      "text/plain": [
       "          runs left    balls left  wickets left           crr           rrr\n",
       "count  97737.000000  97737.000000   97737.00000  97737.000000  97737.000000\n",
       "mean      92.280661     64.286504       7.26469      7.335667     10.443846\n",
       "std       49.656606     32.806349       2.30095      2.451207     13.907903\n",
       "min      -18.000000      1.000000      -1.00000      0.000000    -24.000000\n",
       "25%       53.000000     37.000000       6.00000      6.000000      6.740000\n",
       "50%       91.000000     65.000000       8.00000      7.250000      8.710000\n",
       "75%      128.000000     93.000000       9.00000      8.620000     10.970000\n",
       "max      273.000000    119.000000      10.00000     60.000000    822.000000"
      ]
     },
     "execution_count": 17,
     "metadata": {},
     "output_type": "execute_result"
    }
   ],
   "source": [
    "x=pure.iloc[:,:-1]\n",
    "y=pure.iloc[:,-1]\n",
    "x_train,x_test,y_train,y_test=train_test_split(x,y,test_size=0.8)\n",
    "x.describe()\n"
   ]
  },
  {
   "cell_type": "code",
   "execution_count": 18,
   "metadata": {},
   "outputs": [],
   "source": [
    "ct=ColumnTransformer([(\"trf\",OneHotEncoder(sparse=False,drop=\"first\"),['Venue','Bat First', 'Bat Second'])],remainder=\"passthrough\")\n"
   ]
  },
  {
   "cell_type": "code",
   "execution_count": 19,
   "metadata": {},
   "outputs": [
    {
     "data": {
      "text/html": [
       "<style>#sk-container-id-1 {color: black;}#sk-container-id-1 pre{padding: 0;}#sk-container-id-1 div.sk-toggleable {background-color: white;}#sk-container-id-1 label.sk-toggleable__label {cursor: pointer;display: block;width: 100%;margin-bottom: 0;padding: 0.3em;box-sizing: border-box;text-align: center;}#sk-container-id-1 label.sk-toggleable__label-arrow:before {content: \"▸\";float: left;margin-right: 0.25em;color: #696969;}#sk-container-id-1 label.sk-toggleable__label-arrow:hover:before {color: black;}#sk-container-id-1 div.sk-estimator:hover label.sk-toggleable__label-arrow:before {color: black;}#sk-container-id-1 div.sk-toggleable__content {max-height: 0;max-width: 0;overflow: hidden;text-align: left;background-color: #f0f8ff;}#sk-container-id-1 div.sk-toggleable__content pre {margin: 0.2em;color: black;border-radius: 0.25em;background-color: #f0f8ff;}#sk-container-id-1 input.sk-toggleable__control:checked~div.sk-toggleable__content {max-height: 200px;max-width: 100%;overflow: auto;}#sk-container-id-1 input.sk-toggleable__control:checked~label.sk-toggleable__label-arrow:before {content: \"▾\";}#sk-container-id-1 div.sk-estimator input.sk-toggleable__control:checked~label.sk-toggleable__label {background-color: #d4ebff;}#sk-container-id-1 div.sk-label input.sk-toggleable__control:checked~label.sk-toggleable__label {background-color: #d4ebff;}#sk-container-id-1 input.sk-hidden--visually {border: 0;clip: rect(1px 1px 1px 1px);clip: rect(1px, 1px, 1px, 1px);height: 1px;margin: -1px;overflow: hidden;padding: 0;position: absolute;width: 1px;}#sk-container-id-1 div.sk-estimator {font-family: monospace;background-color: #f0f8ff;border: 1px dotted black;border-radius: 0.25em;box-sizing: border-box;margin-bottom: 0.5em;}#sk-container-id-1 div.sk-estimator:hover {background-color: #d4ebff;}#sk-container-id-1 div.sk-parallel-item::after {content: \"\";width: 100%;border-bottom: 1px solid gray;flex-grow: 1;}#sk-container-id-1 div.sk-label:hover label.sk-toggleable__label {background-color: #d4ebff;}#sk-container-id-1 div.sk-serial::before {content: \"\";position: absolute;border-left: 1px solid gray;box-sizing: border-box;top: 0;bottom: 0;left: 50%;z-index: 0;}#sk-container-id-1 div.sk-serial {display: flex;flex-direction: column;align-items: center;background-color: white;padding-right: 0.2em;padding-left: 0.2em;position: relative;}#sk-container-id-1 div.sk-item {position: relative;z-index: 1;}#sk-container-id-1 div.sk-parallel {display: flex;align-items: stretch;justify-content: center;background-color: white;position: relative;}#sk-container-id-1 div.sk-item::before, #sk-container-id-1 div.sk-parallel-item::before {content: \"\";position: absolute;border-left: 1px solid gray;box-sizing: border-box;top: 0;bottom: 0;left: 50%;z-index: -1;}#sk-container-id-1 div.sk-parallel-item {display: flex;flex-direction: column;z-index: 1;position: relative;background-color: white;}#sk-container-id-1 div.sk-parallel-item:first-child::after {align-self: flex-end;width: 50%;}#sk-container-id-1 div.sk-parallel-item:last-child::after {align-self: flex-start;width: 50%;}#sk-container-id-1 div.sk-parallel-item:only-child::after {width: 0;}#sk-container-id-1 div.sk-dashed-wrapped {border: 1px dashed gray;margin: 0 0.4em 0.5em 0.4em;box-sizing: border-box;padding-bottom: 0.4em;background-color: white;}#sk-container-id-1 div.sk-label label {font-family: monospace;font-weight: bold;display: inline-block;line-height: 1.2em;}#sk-container-id-1 div.sk-label-container {text-align: center;}#sk-container-id-1 div.sk-container {/* jupyter's `normalize.less` sets `[hidden] { display: none; }` but bootstrap.min.css set `[hidden] { display: none !important; }` so we also need the `!important` here to be able to override the default hidden behavior on the sphinx rendered scikit-learn.org. See: https://github.com/scikit-learn/scikit-learn/issues/21755 */display: inline-block !important;position: relative;}#sk-container-id-1 div.sk-text-repr-fallback {display: none;}</style><div id=\"sk-container-id-1\" class=\"sk-top-container\"><div class=\"sk-text-repr-fallback\"><pre>Pipeline(steps=[(&#x27;step 1&#x27;,\n",
       "                 ColumnTransformer(remainder=&#x27;passthrough&#x27;,\n",
       "                                   transformers=[(&#x27;trf&#x27;,\n",
       "                                                  OneHotEncoder(drop=&#x27;first&#x27;,\n",
       "                                                                sparse=False),\n",
       "                                                  [&#x27;Venue&#x27;, &#x27;Bat First&#x27;,\n",
       "                                                   &#x27;Bat Second&#x27;])])),\n",
       "                (&#x27;step 2&#x27;, RandomForestClassifier())])</pre><b>In a Jupyter environment, please rerun this cell to show the HTML representation or trust the notebook. <br />On GitHub, the HTML representation is unable to render, please try loading this page with nbviewer.org.</b></div><div class=\"sk-container\" hidden><div class=\"sk-item sk-dashed-wrapped\"><div class=\"sk-label-container\"><div class=\"sk-label sk-toggleable\"><input class=\"sk-toggleable__control sk-hidden--visually\" id=\"sk-estimator-id-1\" type=\"checkbox\" ><label for=\"sk-estimator-id-1\" class=\"sk-toggleable__label sk-toggleable__label-arrow\">Pipeline</label><div class=\"sk-toggleable__content\"><pre>Pipeline(steps=[(&#x27;step 1&#x27;,\n",
       "                 ColumnTransformer(remainder=&#x27;passthrough&#x27;,\n",
       "                                   transformers=[(&#x27;trf&#x27;,\n",
       "                                                  OneHotEncoder(drop=&#x27;first&#x27;,\n",
       "                                                                sparse=False),\n",
       "                                                  [&#x27;Venue&#x27;, &#x27;Bat First&#x27;,\n",
       "                                                   &#x27;Bat Second&#x27;])])),\n",
       "                (&#x27;step 2&#x27;, RandomForestClassifier())])</pre></div></div></div><div class=\"sk-serial\"><div class=\"sk-item sk-dashed-wrapped\"><div class=\"sk-label-container\"><div class=\"sk-label sk-toggleable\"><input class=\"sk-toggleable__control sk-hidden--visually\" id=\"sk-estimator-id-2\" type=\"checkbox\" ><label for=\"sk-estimator-id-2\" class=\"sk-toggleable__label sk-toggleable__label-arrow\">step 1: ColumnTransformer</label><div class=\"sk-toggleable__content\"><pre>ColumnTransformer(remainder=&#x27;passthrough&#x27;,\n",
       "                  transformers=[(&#x27;trf&#x27;,\n",
       "                                 OneHotEncoder(drop=&#x27;first&#x27;, sparse=False),\n",
       "                                 [&#x27;Venue&#x27;, &#x27;Bat First&#x27;, &#x27;Bat Second&#x27;])])</pre></div></div></div><div class=\"sk-parallel\"><div class=\"sk-parallel-item\"><div class=\"sk-item\"><div class=\"sk-label-container\"><div class=\"sk-label sk-toggleable\"><input class=\"sk-toggleable__control sk-hidden--visually\" id=\"sk-estimator-id-3\" type=\"checkbox\" ><label for=\"sk-estimator-id-3\" class=\"sk-toggleable__label sk-toggleable__label-arrow\">trf</label><div class=\"sk-toggleable__content\"><pre>[&#x27;Venue&#x27;, &#x27;Bat First&#x27;, &#x27;Bat Second&#x27;]</pre></div></div></div><div class=\"sk-serial\"><div class=\"sk-item\"><div class=\"sk-estimator sk-toggleable\"><input class=\"sk-toggleable__control sk-hidden--visually\" id=\"sk-estimator-id-4\" type=\"checkbox\" ><label for=\"sk-estimator-id-4\" class=\"sk-toggleable__label sk-toggleable__label-arrow\">OneHotEncoder</label><div class=\"sk-toggleable__content\"><pre>OneHotEncoder(drop=&#x27;first&#x27;, sparse=False)</pre></div></div></div></div></div></div><div class=\"sk-parallel-item\"><div class=\"sk-item\"><div class=\"sk-label-container\"><div class=\"sk-label sk-toggleable\"><input class=\"sk-toggleable__control sk-hidden--visually\" id=\"sk-estimator-id-5\" type=\"checkbox\" ><label for=\"sk-estimator-id-5\" class=\"sk-toggleable__label sk-toggleable__label-arrow\">remainder</label><div class=\"sk-toggleable__content\"><pre>[&#x27;runs left&#x27;, &#x27;balls left&#x27;, &#x27;wickets left&#x27;, &#x27;crr&#x27;, &#x27;rrr&#x27;]</pre></div></div></div><div class=\"sk-serial\"><div class=\"sk-item\"><div class=\"sk-estimator sk-toggleable\"><input class=\"sk-toggleable__control sk-hidden--visually\" id=\"sk-estimator-id-6\" type=\"checkbox\" ><label for=\"sk-estimator-id-6\" class=\"sk-toggleable__label sk-toggleable__label-arrow\">passthrough</label><div class=\"sk-toggleable__content\"><pre>passthrough</pre></div></div></div></div></div></div></div></div><div class=\"sk-item\"><div class=\"sk-estimator sk-toggleable\"><input class=\"sk-toggleable__control sk-hidden--visually\" id=\"sk-estimator-id-7\" type=\"checkbox\" ><label for=\"sk-estimator-id-7\" class=\"sk-toggleable__label sk-toggleable__label-arrow\">RandomForestClassifier</label><div class=\"sk-toggleable__content\"><pre>RandomForestClassifier()</pre></div></div></div></div></div></div></div>"
      ],
      "text/plain": [
       "Pipeline(steps=[('step 1',\n",
       "                 ColumnTransformer(remainder='passthrough',\n",
       "                                   transformers=[('trf',\n",
       "                                                  OneHotEncoder(drop='first',\n",
       "                                                                sparse=False),\n",
       "                                                  ['Venue', 'Bat First',\n",
       "                                                   'Bat Second'])])),\n",
       "                ('step 2', RandomForestClassifier())])"
      ]
     },
     "execution_count": 19,
     "metadata": {},
     "output_type": "execute_result"
    }
   ],
   "source": [
    "pipeline_rf=Pipeline(steps=[(\"step 1\",ct),(\"step 2\",RandomForestClassifier())])\n",
    "pipeline_rf.fit(x_train,y_train)"
   ]
  },
  {
   "cell_type": "code",
   "execution_count": 20,
   "metadata": {},
   "outputs": [
    {
     "name": "stdout",
     "output_type": "stream",
     "text": [
      "Accuracy with Logistic regression: 0.8602123033636014\n",
      "[0.01451375 0.98548625]\n",
      "[0.93733575 0.06266425]\n",
      "[0.91118591 0.08881409]\n",
      "[0.98887474 0.01112526]\n",
      "[0.64969143 0.35030857]\n",
      "[0.90135398 0.09864602]\n",
      "[0.9146296 0.0853704]\n",
      "[0.0311565 0.9688435]\n",
      "[0.9718809 0.0281191]\n",
      "[0.10068968 0.89931032]\n",
      "[0.0789029 0.9210971]\n",
      "[0.10766044 0.89233956]\n",
      "[0.18311711 0.81688289]\n",
      "[0.73247356 0.26752644]\n",
      "[0.36614824 0.63385176]\n",
      "[0.14135526 0.85864474]\n",
      "[0.17078463 0.82921537]\n",
      "[0.08371291 0.91628709]\n",
      "[0.77704459 0.22295541]\n",
      "[0.77849393 0.22150607]\n"
     ]
    }
   ],
   "source": [
    "pipeline_lr=Pipeline(steps=[(\"step 1\",ct),(\"step 2\",LogisticRegression(solver=\"liblinear\"))])\n",
    "pipeline_lr.fit(x_train,y_train)\n",
    "y_pred_lr=pipeline_lr.predict(x_test)\n",
    "print(\"Accuracy with Logistic regression:\",accuracy_score(y_test,y_pred_lr))\n",
    "for i in range(20):\n",
    "    print(pipeline_lr.predict_proba(x_test)[i])"
   ]
  },
  {
   "cell_type": "code",
   "execution_count": 21,
   "metadata": {},
   "outputs": [],
   "source": [
    "# trf_x_train=ct.fit_transform(x_train)\n",
    "# trf_x_test=ct.fit_transform(x_test)\n",
    "# params={\"C\":[0.01,0.1,1,10],\"kernel\":[\"linear\",\"sigmoid\",\"poly\",\"rbf\"],\"degree\":[2,3,4]}\n",
    "# grid=GridSearchCV(SVC(),params)\n",
    "# grid.fit(trf_x_train,y_train)"
   ]
  },
  {
   "cell_type": "code",
   "execution_count": 22,
   "metadata": {},
   "outputs": [],
   "source": [
    "# print(grid.best_estimator_)\n",
    "# print(grid.score(trf_x_test,y_test))"
   ]
  },
  {
   "cell_type": "code",
   "execution_count": 23,
   "metadata": {},
   "outputs": [],
   "source": [
    "# pipeline_svc=Pipeline(steps=[(\"step 1\",ct),(\"step 2\",SVC(C=10, degree=2, kernel='linear',probability=True))])\n",
    "# pipeline_svc.fit(x_train,y_train)\n",
    "# y_pred_svc=pipeline_svc.predict(x_test)\n",
    "# print(\"Accuracy with suppor vector classifier:\",accuracy_score(y_test,y_pred_svc))"
   ]
  },
  {
   "cell_type": "code",
   "execution_count": 24,
   "metadata": {},
   "outputs": [],
   "source": [
    "# for i in range(20):\n",
    "#     print(pipeline_svc.predict_proba(x_test)[i])"
   ]
  },
  {
   "cell_type": "code",
   "execution_count": 25,
   "metadata": {},
   "outputs": [],
   "source": [
    "# rf=RandomForestClassifier(n_estimators=1000)\n",
    "# rf.fit(trf_x_train, y_train)\n",
    "# y_pred=rf.predict(trf_x_test)\n",
    "# print(accuracy_score(y_test,y_pred))\n",
    "# for i in range(20):\n",
    "#     print(rf.predict_proba(trf_x_test)[i])"
   ]
  },
  {
   "cell_type": "code",
   "execution_count": 26,
   "metadata": {},
   "outputs": [
    {
     "name": "stdout",
     "output_type": "stream",
     "text": [
      "Accuracy with Random Forest: 0.8602123033636014\n",
      "[0. 1.]\n",
      "[0.92 0.08]\n",
      "[0.88 0.12]\n",
      "[0.96 0.04]\n",
      "[0.51 0.49]\n",
      "[0.62 0.38]\n",
      "[0.67 0.33]\n",
      "[0.01 0.99]\n",
      "[1. 0.]\n",
      "[0. 1.]\n",
      "[0.09 0.91]\n",
      "[0.08 0.92]\n",
      "[0.92 0.08]\n",
      "[0.13 0.87]\n",
      "[0.16 0.84]\n",
      "[0.08 0.92]\n",
      "[0.16 0.84]\n",
      "[0.1 0.9]\n",
      "[0.38 0.62]\n",
      "[0.75 0.25]\n"
     ]
    }
   ],
   "source": [
    "pipeline_rf=Pipeline(steps=[(\"step 1\",ct),(\"step 2\",RandomForestClassifier())])\n",
    "pipeline_rf.fit(x_train,y_train)\n",
    "y_pred_rf=pipeline_lr.predict(x_test)\n",
    "print(\"Accuracy with Random Forest:\",accuracy_score(y_test,y_pred_lr))\n",
    "for i in range(20):\n",
    "    print(pipeline_rf.predict_proba(x_test)[i])"
   ]
  },
  {
   "cell_type": "code",
   "execution_count": 27,
   "metadata": {},
   "outputs": [
    {
     "data": {
      "text/html": [
       "<div>\n",
       "<style scoped>\n",
       "    .dataframe tbody tr th:only-of-type {\n",
       "        vertical-align: middle;\n",
       "    }\n",
       "\n",
       "    .dataframe tbody tr th {\n",
       "        vertical-align: top;\n",
       "    }\n",
       "\n",
       "    .dataframe thead th {\n",
       "        text-align: right;\n",
       "    }\n",
       "</style>\n",
       "<table border=\"1\" class=\"dataframe\">\n",
       "  <thead>\n",
       "    <tr style=\"text-align: right;\">\n",
       "      <th></th>\n",
       "      <th>Match ID</th>\n",
       "      <th>Innings</th>\n",
       "      <th>Over</th>\n",
       "      <th>Ball</th>\n",
       "      <th>Runs From Ball</th>\n",
       "      <th>Wicket</th>\n",
       "      <th>current score</th>\n",
       "    </tr>\n",
       "  </thead>\n",
       "  <tbody>\n",
       "    <tr>\n",
       "      <th>0</th>\n",
       "      <td>211028</td>\n",
       "      <td>1</td>\n",
       "      <td>1</td>\n",
       "      <td>1</td>\n",
       "      <td>0</td>\n",
       "      <td>0</td>\n",
       "      <td>0</td>\n",
       "    </tr>\n",
       "    <tr>\n",
       "      <th>1</th>\n",
       "      <td>211028</td>\n",
       "      <td>1</td>\n",
       "      <td>1</td>\n",
       "      <td>2</td>\n",
       "      <td>1</td>\n",
       "      <td>0</td>\n",
       "      <td>1</td>\n",
       "    </tr>\n",
       "    <tr>\n",
       "      <th>2</th>\n",
       "      <td>211028</td>\n",
       "      <td>1</td>\n",
       "      <td>1</td>\n",
       "      <td>3</td>\n",
       "      <td>0</td>\n",
       "      <td>0</td>\n",
       "      <td>1</td>\n",
       "    </tr>\n",
       "    <tr>\n",
       "      <th>3</th>\n",
       "      <td>211028</td>\n",
       "      <td>1</td>\n",
       "      <td>1</td>\n",
       "      <td>4</td>\n",
       "      <td>0</td>\n",
       "      <td>0</td>\n",
       "      <td>1</td>\n",
       "    </tr>\n",
       "    <tr>\n",
       "      <th>4</th>\n",
       "      <td>211028</td>\n",
       "      <td>1</td>\n",
       "      <td>1</td>\n",
       "      <td>5</td>\n",
       "      <td>0</td>\n",
       "      <td>0</td>\n",
       "      <td>1</td>\n",
       "    </tr>\n",
       "    <tr>\n",
       "      <th>...</th>\n",
       "      <td>...</td>\n",
       "      <td>...</td>\n",
       "      <td>...</td>\n",
       "      <td>...</td>\n",
       "      <td>...</td>\n",
       "      <td>...</td>\n",
       "      <td>...</td>\n",
       "    </tr>\n",
       "    <tr>\n",
       "      <th>204973</th>\n",
       "      <td>1384637</td>\n",
       "      <td>2</td>\n",
       "      <td>20</td>\n",
       "      <td>2</td>\n",
       "      <td>0</td>\n",
       "      <td>0</td>\n",
       "      <td>333</td>\n",
       "    </tr>\n",
       "    <tr>\n",
       "      <th>204974</th>\n",
       "      <td>1384637</td>\n",
       "      <td>2</td>\n",
       "      <td>20</td>\n",
       "      <td>3</td>\n",
       "      <td>0</td>\n",
       "      <td>0</td>\n",
       "      <td>333</td>\n",
       "    </tr>\n",
       "    <tr>\n",
       "      <th>204975</th>\n",
       "      <td>1384637</td>\n",
       "      <td>2</td>\n",
       "      <td>20</td>\n",
       "      <td>4</td>\n",
       "      <td>0</td>\n",
       "      <td>1</td>\n",
       "      <td>333</td>\n",
       "    </tr>\n",
       "    <tr>\n",
       "      <th>204976</th>\n",
       "      <td>1384637</td>\n",
       "      <td>2</td>\n",
       "      <td>20</td>\n",
       "      <td>5</td>\n",
       "      <td>0</td>\n",
       "      <td>0</td>\n",
       "      <td>333</td>\n",
       "    </tr>\n",
       "    <tr>\n",
       "      <th>204977</th>\n",
       "      <td>1384637</td>\n",
       "      <td>2</td>\n",
       "      <td>20</td>\n",
       "      <td>6</td>\n",
       "      <td>4</td>\n",
       "      <td>0</td>\n",
       "      <td>337</td>\n",
       "    </tr>\n",
       "  </tbody>\n",
       "</table>\n",
       "<p>204978 rows × 7 columns</p>\n",
       "</div>"
      ],
      "text/plain": [
       "        Match ID  Innings  Over  Ball  Runs From Ball  Wicket  current score\n",
       "0         211028        1     1     1               0       0              0\n",
       "1         211028        1     1     2               1       0              1\n",
       "2         211028        1     1     3               0       0              1\n",
       "3         211028        1     1     4               0       0              1\n",
       "4         211028        1     1     5               0       0              1\n",
       "...          ...      ...   ...   ...             ...     ...            ...\n",
       "204973   1384637        2    20     2               0       0            333\n",
       "204974   1384637        2    20     3               0       0            333\n",
       "204975   1384637        2    20     4               0       1            333\n",
       "204976   1384637        2    20     5               0       0            333\n",
       "204977   1384637        2    20     6               4       0            337\n",
       "\n",
       "[204978 rows x 7 columns]"
      ]
     },
     "execution_count": 27,
     "metadata": {},
     "output_type": "execute_result"
    }
   ],
   "source": [
    "prog_df=df.groupby([\"Match ID\",\"Innings\",\"Over\",\"Ball\"]).sum()[['Runs From Ball',\"Wicket\"]].reset_index()\n",
    "prog_df[\"current score\"]=prog_df.groupby(\"Match ID\").cumsum()[\"Runs From Ball\"]\n",
    "prog_df"
   ]
  },
  {
   "cell_type": "code",
   "execution_count": 28,
   "metadata": {},
   "outputs": [],
   "source": [
    "innings_2=prog_df[prog_df[\"Innings\"]==2]\n",
    "innings_1=prog_df[prog_df[\"Innings\"]==1]\n",
    "innings_1\n",
    "temp=innings_2.groupby(\"Match ID\").count()[\"Ball\"].reset_index()"
   ]
  },
  {
   "cell_type": "code",
   "execution_count": 29,
   "metadata": {},
   "outputs": [],
   "source": [
    "innings_1.to_csv(\"first_innings.csv\")\n",
    "innings_2.to_csv(\"second_innings.csv\")"
   ]
  },
  {
   "cell_type": "code",
   "execution_count": 30,
   "metadata": {},
   "outputs": [
    {
     "name": "stderr",
     "output_type": "stream",
     "text": [
      "c:\\python ssss\\lib\\site-packages\\plotly\\graph_objs\\_deprecations.py:378: DeprecationWarning:\n",
      "\n",
      "plotly.graph_objs.Line is deprecated.\n",
      "Please replace it with one of the following more specific types\n",
      "  - plotly.graph_objs.scatter.Line\n",
      "  - plotly.graph_objs.layout.shape.Line\n",
      "  - etc.\n",
      "\n",
      "\n"
     ]
    },
    {
     "data": {
      "application/vnd.plotly.v1+json": {
       "config": {
        "plotlyServerURL": "https://plot.ly"
       },
       "data": [
        {
         "name": "first innings",
         "type": "scatter",
         "x": [
          1,
          2,
          3,
          4,
          5,
          6,
          7,
          8,
          9,
          10,
          11,
          12,
          13,
          14,
          15,
          16,
          17,
          18,
          19,
          20,
          21,
          22,
          23,
          24,
          25,
          26,
          27,
          28,
          29,
          30,
          31,
          32,
          33,
          34,
          35,
          36,
          37,
          38,
          39,
          40,
          41,
          42,
          43,
          44,
          45,
          46,
          47,
          48,
          49,
          50,
          51,
          52,
          53,
          54,
          55,
          56,
          57,
          58,
          59,
          60,
          61,
          62,
          63,
          64,
          65,
          66,
          67,
          68,
          69,
          70,
          71,
          72,
          73,
          74,
          75,
          76,
          77,
          78,
          79,
          80,
          81,
          82,
          83,
          84,
          85,
          86,
          87,
          88,
          89,
          90,
          91,
          92,
          93,
          94,
          95,
          96,
          97,
          98,
          99,
          100,
          101,
          102,
          103,
          104,
          105,
          106,
          107,
          108,
          109,
          110,
          111,
          112,
          113,
          114,
          115,
          116,
          117,
          118,
          119,
          120
         ],
         "y": [
          1,
          2,
          2,
          2,
          6,
          10,
          10,
          10,
          10,
          10,
          11,
          11,
          15,
          16,
          20,
          22,
          26,
          28,
          32,
          32,
          32,
          32,
          33,
          33,
          39,
          43,
          43,
          49,
          49,
          53,
          57,
          61,
          62,
          62,
          62,
          62,
          68,
          74,
          74,
          78,
          82,
          83,
          83,
          89,
          89,
          90,
          96,
          97,
          99,
          105,
          110,
          116,
          117,
          118,
          124,
          124,
          125,
          125,
          131,
          137,
          137,
          137,
          139,
          139,
          140,
          140,
          141,
          141,
          147,
          148,
          148,
          148,
          152,
          153,
          154,
          160,
          160,
          161,
          167,
          173,
          177,
          178,
          179,
          179,
          182,
          183,
          184,
          185,
          186,
          190,
          191,
          192,
          193,
          199,
          200,
          206,
          207,
          208,
          208,
          214,
          215,
          217,
          221,
          222,
          228,
          234,
          234,
          235,
          236,
          236,
          237,
          239,
          240,
          240,
          242,
          243,
          249,
          251,
          252,
          258
         ]
        },
        {
         "name": "second innings",
         "type": "scatter",
         "x": [
          1,
          2,
          3,
          4,
          5,
          6,
          7,
          8,
          9,
          10,
          11,
          12,
          13,
          14,
          15,
          16,
          17,
          18,
          19,
          20,
          21,
          22,
          23,
          24,
          25,
          26,
          27,
          28,
          29,
          30,
          31,
          32,
          33,
          34,
          35,
          36,
          37,
          38,
          39,
          40,
          41,
          42,
          43,
          44,
          45,
          46,
          47,
          48,
          49,
          50,
          51,
          52,
          53,
          54,
          55,
          56,
          57,
          58,
          59,
          60,
          61,
          62,
          63,
          64,
          65,
          66,
          67,
          68,
          69,
          70,
          71,
          72,
          73,
          74,
          75,
          76,
          77,
          78,
          79,
          80,
          81,
          82,
          83,
          84,
          85,
          86,
          87,
          88,
          89,
          90,
          91,
          92,
          93,
          94,
          95,
          96,
          97,
          98,
          99,
          100,
          101,
          102,
          103,
          104,
          105,
          106,
          107,
          108,
          109,
          110,
          111,
          112,
          113
         ],
         "y": [
          0,
          4,
          4,
          4,
          5,
          9,
          16,
          22,
          28,
          33,
          34,
          38,
          39,
          43,
          44,
          50,
          54,
          58,
          58,
          62,
          66,
          70,
          70,
          74,
          80,
          80,
          80,
          81,
          85,
          88,
          94,
          94,
          96,
          98,
          98,
          98,
          99,
          105,
          105,
          109,
          110,
          111,
          115,
          116,
          117,
          118,
          122,
          123,
          129,
          130,
          131,
          132,
          133,
          134,
          138,
          139,
          143,
          143,
          143,
          145,
          145,
          146,
          146,
          147,
          148,
          152,
          158,
          162,
          163,
          169,
          176,
          176,
          177,
          185,
          189,
          189,
          191,
          192,
          192,
          193,
          194,
          195,
          196,
          200,
          200,
          201,
          202,
          202,
          204,
          206,
          210,
          211,
          212,
          212,
          213,
          214,
          215,
          216,
          220,
          226,
          230,
          232,
          236,
          240,
          241,
          241,
          245,
          246,
          246,
          248,
          252,
          253,
          255
         ]
        },
        {
         "marker": {
          "color": "blue"
         },
         "mode": "markers",
         "name": "first innings wickets",
         "type": "scatter",
         "x": [
          3,
          61,
          64,
          84,
          110
         ],
         "y": [
          2,
          137,
          139,
          179,
          236
         ]
        },
        {
         "marker": {
          "color": "red"
         },
         "mode": "markers",
         "name": "second innings wickets",
         "type": "scatter",
         "x": [
          65,
          72,
          76,
          94
         ],
         "y": [
          148,
          176,
          189,
          212
         ]
        }
       ],
       "layout": {
        "height": 400,
        "template": {
         "data": {
          "bar": [
           {
            "error_x": {
             "color": "#2a3f5f"
            },
            "error_y": {
             "color": "#2a3f5f"
            },
            "marker": {
             "line": {
              "color": "#E5ECF6",
              "width": 0.5
             },
             "pattern": {
              "fillmode": "overlay",
              "size": 10,
              "solidity": 0.2
             }
            },
            "type": "bar"
           }
          ],
          "barpolar": [
           {
            "marker": {
             "line": {
              "color": "#E5ECF6",
              "width": 0.5
             },
             "pattern": {
              "fillmode": "overlay",
              "size": 10,
              "solidity": 0.2
             }
            },
            "type": "barpolar"
           }
          ],
          "carpet": [
           {
            "aaxis": {
             "endlinecolor": "#2a3f5f",
             "gridcolor": "white",
             "linecolor": "white",
             "minorgridcolor": "white",
             "startlinecolor": "#2a3f5f"
            },
            "baxis": {
             "endlinecolor": "#2a3f5f",
             "gridcolor": "white",
             "linecolor": "white",
             "minorgridcolor": "white",
             "startlinecolor": "#2a3f5f"
            },
            "type": "carpet"
           }
          ],
          "choropleth": [
           {
            "colorbar": {
             "outlinewidth": 0,
             "ticks": ""
            },
            "type": "choropleth"
           }
          ],
          "contour": [
           {
            "colorbar": {
             "outlinewidth": 0,
             "ticks": ""
            },
            "colorscale": [
             [
              0,
              "#0d0887"
             ],
             [
              0.1111111111111111,
              "#46039f"
             ],
             [
              0.2222222222222222,
              "#7201a8"
             ],
             [
              0.3333333333333333,
              "#9c179e"
             ],
             [
              0.4444444444444444,
              "#bd3786"
             ],
             [
              0.5555555555555556,
              "#d8576b"
             ],
             [
              0.6666666666666666,
              "#ed7953"
             ],
             [
              0.7777777777777778,
              "#fb9f3a"
             ],
             [
              0.8888888888888888,
              "#fdca26"
             ],
             [
              1,
              "#f0f921"
             ]
            ],
            "type": "contour"
           }
          ],
          "contourcarpet": [
           {
            "colorbar": {
             "outlinewidth": 0,
             "ticks": ""
            },
            "type": "contourcarpet"
           }
          ],
          "heatmap": [
           {
            "colorbar": {
             "outlinewidth": 0,
             "ticks": ""
            },
            "colorscale": [
             [
              0,
              "#0d0887"
             ],
             [
              0.1111111111111111,
              "#46039f"
             ],
             [
              0.2222222222222222,
              "#7201a8"
             ],
             [
              0.3333333333333333,
              "#9c179e"
             ],
             [
              0.4444444444444444,
              "#bd3786"
             ],
             [
              0.5555555555555556,
              "#d8576b"
             ],
             [
              0.6666666666666666,
              "#ed7953"
             ],
             [
              0.7777777777777778,
              "#fb9f3a"
             ],
             [
              0.8888888888888888,
              "#fdca26"
             ],
             [
              1,
              "#f0f921"
             ]
            ],
            "type": "heatmap"
           }
          ],
          "heatmapgl": [
           {
            "colorbar": {
             "outlinewidth": 0,
             "ticks": ""
            },
            "colorscale": [
             [
              0,
              "#0d0887"
             ],
             [
              0.1111111111111111,
              "#46039f"
             ],
             [
              0.2222222222222222,
              "#7201a8"
             ],
             [
              0.3333333333333333,
              "#9c179e"
             ],
             [
              0.4444444444444444,
              "#bd3786"
             ],
             [
              0.5555555555555556,
              "#d8576b"
             ],
             [
              0.6666666666666666,
              "#ed7953"
             ],
             [
              0.7777777777777778,
              "#fb9f3a"
             ],
             [
              0.8888888888888888,
              "#fdca26"
             ],
             [
              1,
              "#f0f921"
             ]
            ],
            "type": "heatmapgl"
           }
          ],
          "histogram": [
           {
            "marker": {
             "pattern": {
              "fillmode": "overlay",
              "size": 10,
              "solidity": 0.2
             }
            },
            "type": "histogram"
           }
          ],
          "histogram2d": [
           {
            "colorbar": {
             "outlinewidth": 0,
             "ticks": ""
            },
            "colorscale": [
             [
              0,
              "#0d0887"
             ],
             [
              0.1111111111111111,
              "#46039f"
             ],
             [
              0.2222222222222222,
              "#7201a8"
             ],
             [
              0.3333333333333333,
              "#9c179e"
             ],
             [
              0.4444444444444444,
              "#bd3786"
             ],
             [
              0.5555555555555556,
              "#d8576b"
             ],
             [
              0.6666666666666666,
              "#ed7953"
             ],
             [
              0.7777777777777778,
              "#fb9f3a"
             ],
             [
              0.8888888888888888,
              "#fdca26"
             ],
             [
              1,
              "#f0f921"
             ]
            ],
            "type": "histogram2d"
           }
          ],
          "histogram2dcontour": [
           {
            "colorbar": {
             "outlinewidth": 0,
             "ticks": ""
            },
            "colorscale": [
             [
              0,
              "#0d0887"
             ],
             [
              0.1111111111111111,
              "#46039f"
             ],
             [
              0.2222222222222222,
              "#7201a8"
             ],
             [
              0.3333333333333333,
              "#9c179e"
             ],
             [
              0.4444444444444444,
              "#bd3786"
             ],
             [
              0.5555555555555556,
              "#d8576b"
             ],
             [
              0.6666666666666666,
              "#ed7953"
             ],
             [
              0.7777777777777778,
              "#fb9f3a"
             ],
             [
              0.8888888888888888,
              "#fdca26"
             ],
             [
              1,
              "#f0f921"
             ]
            ],
            "type": "histogram2dcontour"
           }
          ],
          "mesh3d": [
           {
            "colorbar": {
             "outlinewidth": 0,
             "ticks": ""
            },
            "type": "mesh3d"
           }
          ],
          "parcoords": [
           {
            "line": {
             "colorbar": {
              "outlinewidth": 0,
              "ticks": ""
             }
            },
            "type": "parcoords"
           }
          ],
          "pie": [
           {
            "automargin": true,
            "type": "pie"
           }
          ],
          "scatter": [
           {
            "fillpattern": {
             "fillmode": "overlay",
             "size": 10,
             "solidity": 0.2
            },
            "type": "scatter"
           }
          ],
          "scatter3d": [
           {
            "line": {
             "colorbar": {
              "outlinewidth": 0,
              "ticks": ""
             }
            },
            "marker": {
             "colorbar": {
              "outlinewidth": 0,
              "ticks": ""
             }
            },
            "type": "scatter3d"
           }
          ],
          "scattercarpet": [
           {
            "marker": {
             "colorbar": {
              "outlinewidth": 0,
              "ticks": ""
             }
            },
            "type": "scattercarpet"
           }
          ],
          "scattergeo": [
           {
            "marker": {
             "colorbar": {
              "outlinewidth": 0,
              "ticks": ""
             }
            },
            "type": "scattergeo"
           }
          ],
          "scattergl": [
           {
            "marker": {
             "colorbar": {
              "outlinewidth": 0,
              "ticks": ""
             }
            },
            "type": "scattergl"
           }
          ],
          "scattermapbox": [
           {
            "marker": {
             "colorbar": {
              "outlinewidth": 0,
              "ticks": ""
             }
            },
            "type": "scattermapbox"
           }
          ],
          "scatterpolar": [
           {
            "marker": {
             "colorbar": {
              "outlinewidth": 0,
              "ticks": ""
             }
            },
            "type": "scatterpolar"
           }
          ],
          "scatterpolargl": [
           {
            "marker": {
             "colorbar": {
              "outlinewidth": 0,
              "ticks": ""
             }
            },
            "type": "scatterpolargl"
           }
          ],
          "scatterternary": [
           {
            "marker": {
             "colorbar": {
              "outlinewidth": 0,
              "ticks": ""
             }
            },
            "type": "scatterternary"
           }
          ],
          "surface": [
           {
            "colorbar": {
             "outlinewidth": 0,
             "ticks": ""
            },
            "colorscale": [
             [
              0,
              "#0d0887"
             ],
             [
              0.1111111111111111,
              "#46039f"
             ],
             [
              0.2222222222222222,
              "#7201a8"
             ],
             [
              0.3333333333333333,
              "#9c179e"
             ],
             [
              0.4444444444444444,
              "#bd3786"
             ],
             [
              0.5555555555555556,
              "#d8576b"
             ],
             [
              0.6666666666666666,
              "#ed7953"
             ],
             [
              0.7777777777777778,
              "#fb9f3a"
             ],
             [
              0.8888888888888888,
              "#fdca26"
             ],
             [
              1,
              "#f0f921"
             ]
            ],
            "type": "surface"
           }
          ],
          "table": [
           {
            "cells": {
             "fill": {
              "color": "#EBF0F8"
             },
             "line": {
              "color": "white"
             }
            },
            "header": {
             "fill": {
              "color": "#C8D4E3"
             },
             "line": {
              "color": "white"
             }
            },
            "type": "table"
           }
          ]
         },
         "layout": {
          "annotationdefaults": {
           "arrowcolor": "#2a3f5f",
           "arrowhead": 0,
           "arrowwidth": 1
          },
          "autotypenumbers": "strict",
          "coloraxis": {
           "colorbar": {
            "outlinewidth": 0,
            "ticks": ""
           }
          },
          "colorscale": {
           "diverging": [
            [
             0,
             "#8e0152"
            ],
            [
             0.1,
             "#c51b7d"
            ],
            [
             0.2,
             "#de77ae"
            ],
            [
             0.3,
             "#f1b6da"
            ],
            [
             0.4,
             "#fde0ef"
            ],
            [
             0.5,
             "#f7f7f7"
            ],
            [
             0.6,
             "#e6f5d0"
            ],
            [
             0.7,
             "#b8e186"
            ],
            [
             0.8,
             "#7fbc41"
            ],
            [
             0.9,
             "#4d9221"
            ],
            [
             1,
             "#276419"
            ]
           ],
           "sequential": [
            [
             0,
             "#0d0887"
            ],
            [
             0.1111111111111111,
             "#46039f"
            ],
            [
             0.2222222222222222,
             "#7201a8"
            ],
            [
             0.3333333333333333,
             "#9c179e"
            ],
            [
             0.4444444444444444,
             "#bd3786"
            ],
            [
             0.5555555555555556,
             "#d8576b"
            ],
            [
             0.6666666666666666,
             "#ed7953"
            ],
            [
             0.7777777777777778,
             "#fb9f3a"
            ],
            [
             0.8888888888888888,
             "#fdca26"
            ],
            [
             1,
             "#f0f921"
            ]
           ],
           "sequentialminus": [
            [
             0,
             "#0d0887"
            ],
            [
             0.1111111111111111,
             "#46039f"
            ],
            [
             0.2222222222222222,
             "#7201a8"
            ],
            [
             0.3333333333333333,
             "#9c179e"
            ],
            [
             0.4444444444444444,
             "#bd3786"
            ],
            [
             0.5555555555555556,
             "#d8576b"
            ],
            [
             0.6666666666666666,
             "#ed7953"
            ],
            [
             0.7777777777777778,
             "#fb9f3a"
            ],
            [
             0.8888888888888888,
             "#fdca26"
            ],
            [
             1,
             "#f0f921"
            ]
           ]
          },
          "colorway": [
           "#636efa",
           "#EF553B",
           "#00cc96",
           "#ab63fa",
           "#FFA15A",
           "#19d3f3",
           "#FF6692",
           "#B6E880",
           "#FF97FF",
           "#FECB52"
          ],
          "font": {
           "color": "#2a3f5f"
          },
          "geo": {
           "bgcolor": "white",
           "lakecolor": "white",
           "landcolor": "#E5ECF6",
           "showlakes": true,
           "showland": true,
           "subunitcolor": "white"
          },
          "hoverlabel": {
           "align": "left"
          },
          "hovermode": "closest",
          "mapbox": {
           "style": "light"
          },
          "paper_bgcolor": "white",
          "plot_bgcolor": "#E5ECF6",
          "polar": {
           "angularaxis": {
            "gridcolor": "white",
            "linecolor": "white",
            "ticks": ""
           },
           "bgcolor": "#E5ECF6",
           "radialaxis": {
            "gridcolor": "white",
            "linecolor": "white",
            "ticks": ""
           }
          },
          "scene": {
           "xaxis": {
            "backgroundcolor": "#E5ECF6",
            "gridcolor": "white",
            "gridwidth": 2,
            "linecolor": "white",
            "showbackground": true,
            "ticks": "",
            "zerolinecolor": "white"
           },
           "yaxis": {
            "backgroundcolor": "#E5ECF6",
            "gridcolor": "white",
            "gridwidth": 2,
            "linecolor": "white",
            "showbackground": true,
            "ticks": "",
            "zerolinecolor": "white"
           },
           "zaxis": {
            "backgroundcolor": "#E5ECF6",
            "gridcolor": "white",
            "gridwidth": 2,
            "linecolor": "white",
            "showbackground": true,
            "ticks": "",
            "zerolinecolor": "white"
           }
          },
          "shapedefaults": {
           "line": {
            "color": "#2a3f5f"
           }
          },
          "ternary": {
           "aaxis": {
            "gridcolor": "white",
            "linecolor": "white",
            "ticks": ""
           },
           "baxis": {
            "gridcolor": "white",
            "linecolor": "white",
            "ticks": ""
           },
           "bgcolor": "#E5ECF6",
           "caxis": {
            "gridcolor": "white",
            "linecolor": "white",
            "ticks": ""
           }
          },
          "title": {
           "x": 0.05
          },
          "xaxis": {
           "automargin": true,
           "gridcolor": "white",
           "linecolor": "white",
           "ticks": "",
           "title": {
            "standoff": 15
           },
           "zerolinecolor": "white",
           "zerolinewidth": 2
          },
          "yaxis": {
           "automargin": true,
           "gridcolor": "white",
           "linecolor": "white",
           "ticks": "",
           "title": {
            "standoff": 15
           },
           "zerolinecolor": "white",
           "zerolinewidth": 2
          }
         }
        },
        "title": {
         "text": "Innings progression"
        },
        "width": 800,
        "xaxis": {
         "title": {
          "text": "Balls"
         }
        },
        "yaxis": {
         "title": {
          "text": "runs"
         }
        }
       }
      }
     },
     "metadata": {},
     "output_type": "display_data"
    }
   ],
   "source": [
    "def innings_progression(match):\n",
    "    match_df_2=innings_2[innings_2[\"Match ID\"]==match]\n",
    "    match_df_1=innings_1[innings_1[\"Match ID\"]==match]\n",
    "    target=match_df_2.iloc[0][\"current score\"]\n",
    "    match_df_2[\"Current score\"]=match_df_2[\"current score\"]-target\n",
    "    match_df_2.drop(columns=[\"current score\"],inplace=True)\n",
    "    match_df_2.rename(columns={\"Current score\":\"current score\"},inplace=True)\n",
    "    match_df_2[\"balls\"]=(match_df_2[\"Over\"]-1)*6+match_df_2[\"Ball\"]\n",
    "    match_df_2.drop(columns=[\"Over\",\"Ball\",\"Innings\"],inplace=True)\n",
    "    match_df_1[\"balls\"]=(match_df_1[\"Over\"]-1)*6+match_df_1[\"Ball\"]\n",
    "    match_df_1.drop(columns=[\"Over\",\"Ball\",\"Innings\"],inplace=True)\n",
    "    wickets_1=match_df_1[match_df_1[\"Wicket\"]==1]\n",
    "    wickets_2=match_df_2[match_df_2[\"Wicket\"]==1]\n",
    "    innings_1_runs=match_df_1[\"current score\"].to_list()\n",
    "    innings_1_wickets_x=wickets_1[\"balls\"].to_list()\n",
    "    innings_1_wickets_y=wickets_1[\"current score\"].to_list()\n",
    "    innings_2_wickets_x=wickets_2[\"balls\"].to_list()\n",
    "    innings_2_wickets_y=wickets_2[\"current score\"].to_list()\n",
    "    innings_1_balls=match_df_1[\"balls\"].to_list()\n",
    "    innings_2_runs=match_df_2[\"current score\"].to_list()\n",
    "    innings_2_balls=match_df_2[\"balls\"].to_list()\n",
    "    fig=go.Figure()\n",
    "    fig.add_trace(go.Line(x=innings_1_balls,y=innings_1_runs,name=\"first innings\"))\n",
    "    fig.add_trace(go.Line(x=innings_2_balls,y=innings_2_runs,name=\"second innings\"))\n",
    "    fig.add_trace(go.Scatter(x=innings_1_wickets_x,y=innings_1_wickets_y,mode=\"markers\",marker_color=\"blue\",name=\"first innings wickets\"))\n",
    "    fig.add_trace(go.Scatter(x=innings_2_wickets_x,y=innings_2_wickets_y,mode=\"markers\",marker_color=\"red\",name=\"second innings wickets\"))\n",
    "    fig.update_layout(width=800,height=400,title=\"Innings progression\",\n",
    "    xaxis_title=\"Balls\",\n",
    "    yaxis_title=\"runs\",)\n",
    "    fig.show()\n",
    "innings_progression(1339605)"
   ]
  },
  {
   "cell_type": "code",
   "execution_count": 31,
   "metadata": {},
   "outputs": [
    {
     "data": {
      "application/vnd.plotly.v1+json": {
       "config": {
        "plotlyServerURL": "https://plot.ly"
       },
       "data": [
        {
         "name": "runs per over",
         "type": "bar",
         "x": [
          0,
          1,
          2,
          3,
          4,
          5,
          6,
          7,
          8,
          9,
          10,
          11,
          12,
          13,
          14,
          15,
          16,
          17,
          18
         ],
         "y": [
          13,
          29,
          20,
          16,
          14,
          10,
          13,
          12,
          11,
          11,
          7,
          24,
          16,
          8,
          6,
          8,
          18,
          14,
          9
         ]
        },
        {
         "marker": {
          "color": "green"
         },
         "mode": "markers+lines",
         "name": "win  probability",
         "type": "scatter",
         "x": [
          0,
          1,
          2,
          3,
          4,
          5,
          6,
          7,
          8,
          9,
          10,
          11,
          12,
          13,
          14,
          15,
          16,
          17,
          18
         ],
         "y": [
          13,
          12,
          33,
          50,
          62,
          72,
          76,
          83,
          87,
          90,
          93,
          87,
          93,
          94,
          94,
          94,
          90,
          98,
          100
         ]
        },
        {
         "marker": {
          "color": "red"
         },
         "mode": "markers+lines",
         "name": "loss probability",
         "type": "scatter",
         "x": [
          0,
          1,
          2,
          3,
          4,
          5,
          6,
          7,
          8,
          9,
          10,
          11,
          12,
          13,
          14,
          15,
          16,
          17,
          18
         ],
         "y": [
          87,
          88,
          67,
          50,
          38,
          28,
          24,
          17,
          13,
          10,
          7,
          13,
          7,
          6,
          6,
          6,
          10,
          2,
          0
         ]
        },
        {
         "marker": {
          "color": "black"
         },
         "mode": "markers+lines",
         "name": "wickets per over",
         "type": "scatter",
         "x": [
          0,
          1,
          2,
          3,
          4,
          5,
          6,
          7,
          8,
          9,
          10,
          11,
          12,
          13,
          14,
          15,
          16,
          17,
          18
         ],
         "y": [
          0,
          0,
          0,
          0,
          0,
          0,
          0,
          0,
          0,
          0,
          0,
          1,
          1,
          1,
          0,
          0,
          1,
          0,
          0
         ]
        }
       ],
       "layout": {
        "template": {
         "data": {
          "bar": [
           {
            "error_x": {
             "color": "#2a3f5f"
            },
            "error_y": {
             "color": "#2a3f5f"
            },
            "marker": {
             "line": {
              "color": "#E5ECF6",
              "width": 0.5
             },
             "pattern": {
              "fillmode": "overlay",
              "size": 10,
              "solidity": 0.2
             }
            },
            "type": "bar"
           }
          ],
          "barpolar": [
           {
            "marker": {
             "line": {
              "color": "#E5ECF6",
              "width": 0.5
             },
             "pattern": {
              "fillmode": "overlay",
              "size": 10,
              "solidity": 0.2
             }
            },
            "type": "barpolar"
           }
          ],
          "carpet": [
           {
            "aaxis": {
             "endlinecolor": "#2a3f5f",
             "gridcolor": "white",
             "linecolor": "white",
             "minorgridcolor": "white",
             "startlinecolor": "#2a3f5f"
            },
            "baxis": {
             "endlinecolor": "#2a3f5f",
             "gridcolor": "white",
             "linecolor": "white",
             "minorgridcolor": "white",
             "startlinecolor": "#2a3f5f"
            },
            "type": "carpet"
           }
          ],
          "choropleth": [
           {
            "colorbar": {
             "outlinewidth": 0,
             "ticks": ""
            },
            "type": "choropleth"
           }
          ],
          "contour": [
           {
            "colorbar": {
             "outlinewidth": 0,
             "ticks": ""
            },
            "colorscale": [
             [
              0,
              "#0d0887"
             ],
             [
              0.1111111111111111,
              "#46039f"
             ],
             [
              0.2222222222222222,
              "#7201a8"
             ],
             [
              0.3333333333333333,
              "#9c179e"
             ],
             [
              0.4444444444444444,
              "#bd3786"
             ],
             [
              0.5555555555555556,
              "#d8576b"
             ],
             [
              0.6666666666666666,
              "#ed7953"
             ],
             [
              0.7777777777777778,
              "#fb9f3a"
             ],
             [
              0.8888888888888888,
              "#fdca26"
             ],
             [
              1,
              "#f0f921"
             ]
            ],
            "type": "contour"
           }
          ],
          "contourcarpet": [
           {
            "colorbar": {
             "outlinewidth": 0,
             "ticks": ""
            },
            "type": "contourcarpet"
           }
          ],
          "heatmap": [
           {
            "colorbar": {
             "outlinewidth": 0,
             "ticks": ""
            },
            "colorscale": [
             [
              0,
              "#0d0887"
             ],
             [
              0.1111111111111111,
              "#46039f"
             ],
             [
              0.2222222222222222,
              "#7201a8"
             ],
             [
              0.3333333333333333,
              "#9c179e"
             ],
             [
              0.4444444444444444,
              "#bd3786"
             ],
             [
              0.5555555555555556,
              "#d8576b"
             ],
             [
              0.6666666666666666,
              "#ed7953"
             ],
             [
              0.7777777777777778,
              "#fb9f3a"
             ],
             [
              0.8888888888888888,
              "#fdca26"
             ],
             [
              1,
              "#f0f921"
             ]
            ],
            "type": "heatmap"
           }
          ],
          "heatmapgl": [
           {
            "colorbar": {
             "outlinewidth": 0,
             "ticks": ""
            },
            "colorscale": [
             [
              0,
              "#0d0887"
             ],
             [
              0.1111111111111111,
              "#46039f"
             ],
             [
              0.2222222222222222,
              "#7201a8"
             ],
             [
              0.3333333333333333,
              "#9c179e"
             ],
             [
              0.4444444444444444,
              "#bd3786"
             ],
             [
              0.5555555555555556,
              "#d8576b"
             ],
             [
              0.6666666666666666,
              "#ed7953"
             ],
             [
              0.7777777777777778,
              "#fb9f3a"
             ],
             [
              0.8888888888888888,
              "#fdca26"
             ],
             [
              1,
              "#f0f921"
             ]
            ],
            "type": "heatmapgl"
           }
          ],
          "histogram": [
           {
            "marker": {
             "pattern": {
              "fillmode": "overlay",
              "size": 10,
              "solidity": 0.2
             }
            },
            "type": "histogram"
           }
          ],
          "histogram2d": [
           {
            "colorbar": {
             "outlinewidth": 0,
             "ticks": ""
            },
            "colorscale": [
             [
              0,
              "#0d0887"
             ],
             [
              0.1111111111111111,
              "#46039f"
             ],
             [
              0.2222222222222222,
              "#7201a8"
             ],
             [
              0.3333333333333333,
              "#9c179e"
             ],
             [
              0.4444444444444444,
              "#bd3786"
             ],
             [
              0.5555555555555556,
              "#d8576b"
             ],
             [
              0.6666666666666666,
              "#ed7953"
             ],
             [
              0.7777777777777778,
              "#fb9f3a"
             ],
             [
              0.8888888888888888,
              "#fdca26"
             ],
             [
              1,
              "#f0f921"
             ]
            ],
            "type": "histogram2d"
           }
          ],
          "histogram2dcontour": [
           {
            "colorbar": {
             "outlinewidth": 0,
             "ticks": ""
            },
            "colorscale": [
             [
              0,
              "#0d0887"
             ],
             [
              0.1111111111111111,
              "#46039f"
             ],
             [
              0.2222222222222222,
              "#7201a8"
             ],
             [
              0.3333333333333333,
              "#9c179e"
             ],
             [
              0.4444444444444444,
              "#bd3786"
             ],
             [
              0.5555555555555556,
              "#d8576b"
             ],
             [
              0.6666666666666666,
              "#ed7953"
             ],
             [
              0.7777777777777778,
              "#fb9f3a"
             ],
             [
              0.8888888888888888,
              "#fdca26"
             ],
             [
              1,
              "#f0f921"
             ]
            ],
            "type": "histogram2dcontour"
           }
          ],
          "mesh3d": [
           {
            "colorbar": {
             "outlinewidth": 0,
             "ticks": ""
            },
            "type": "mesh3d"
           }
          ],
          "parcoords": [
           {
            "line": {
             "colorbar": {
              "outlinewidth": 0,
              "ticks": ""
             }
            },
            "type": "parcoords"
           }
          ],
          "pie": [
           {
            "automargin": true,
            "type": "pie"
           }
          ],
          "scatter": [
           {
            "fillpattern": {
             "fillmode": "overlay",
             "size": 10,
             "solidity": 0.2
            },
            "type": "scatter"
           }
          ],
          "scatter3d": [
           {
            "line": {
             "colorbar": {
              "outlinewidth": 0,
              "ticks": ""
             }
            },
            "marker": {
             "colorbar": {
              "outlinewidth": 0,
              "ticks": ""
             }
            },
            "type": "scatter3d"
           }
          ],
          "scattercarpet": [
           {
            "marker": {
             "colorbar": {
              "outlinewidth": 0,
              "ticks": ""
             }
            },
            "type": "scattercarpet"
           }
          ],
          "scattergeo": [
           {
            "marker": {
             "colorbar": {
              "outlinewidth": 0,
              "ticks": ""
             }
            },
            "type": "scattergeo"
           }
          ],
          "scattergl": [
           {
            "marker": {
             "colorbar": {
              "outlinewidth": 0,
              "ticks": ""
             }
            },
            "type": "scattergl"
           }
          ],
          "scattermapbox": [
           {
            "marker": {
             "colorbar": {
              "outlinewidth": 0,
              "ticks": ""
             }
            },
            "type": "scattermapbox"
           }
          ],
          "scatterpolar": [
           {
            "marker": {
             "colorbar": {
              "outlinewidth": 0,
              "ticks": ""
             }
            },
            "type": "scatterpolar"
           }
          ],
          "scatterpolargl": [
           {
            "marker": {
             "colorbar": {
              "outlinewidth": 0,
              "ticks": ""
             }
            },
            "type": "scatterpolargl"
           }
          ],
          "scatterternary": [
           {
            "marker": {
             "colorbar": {
              "outlinewidth": 0,
              "ticks": ""
             }
            },
            "type": "scatterternary"
           }
          ],
          "surface": [
           {
            "colorbar": {
             "outlinewidth": 0,
             "ticks": ""
            },
            "colorscale": [
             [
              0,
              "#0d0887"
             ],
             [
              0.1111111111111111,
              "#46039f"
             ],
             [
              0.2222222222222222,
              "#7201a8"
             ],
             [
              0.3333333333333333,
              "#9c179e"
             ],
             [
              0.4444444444444444,
              "#bd3786"
             ],
             [
              0.5555555555555556,
              "#d8576b"
             ],
             [
              0.6666666666666666,
              "#ed7953"
             ],
             [
              0.7777777777777778,
              "#fb9f3a"
             ],
             [
              0.8888888888888888,
              "#fdca26"
             ],
             [
              1,
              "#f0f921"
             ]
            ],
            "type": "surface"
           }
          ],
          "table": [
           {
            "cells": {
             "fill": {
              "color": "#EBF0F8"
             },
             "line": {
              "color": "white"
             }
            },
            "header": {
             "fill": {
              "color": "#C8D4E3"
             },
             "line": {
              "color": "white"
             }
            },
            "type": "table"
           }
          ]
         },
         "layout": {
          "annotationdefaults": {
           "arrowcolor": "#2a3f5f",
           "arrowhead": 0,
           "arrowwidth": 1
          },
          "autotypenumbers": "strict",
          "coloraxis": {
           "colorbar": {
            "outlinewidth": 0,
            "ticks": ""
           }
          },
          "colorscale": {
           "diverging": [
            [
             0,
             "#8e0152"
            ],
            [
             0.1,
             "#c51b7d"
            ],
            [
             0.2,
             "#de77ae"
            ],
            [
             0.3,
             "#f1b6da"
            ],
            [
             0.4,
             "#fde0ef"
            ],
            [
             0.5,
             "#f7f7f7"
            ],
            [
             0.6,
             "#e6f5d0"
            ],
            [
             0.7,
             "#b8e186"
            ],
            [
             0.8,
             "#7fbc41"
            ],
            [
             0.9,
             "#4d9221"
            ],
            [
             1,
             "#276419"
            ]
           ],
           "sequential": [
            [
             0,
             "#0d0887"
            ],
            [
             0.1111111111111111,
             "#46039f"
            ],
            [
             0.2222222222222222,
             "#7201a8"
            ],
            [
             0.3333333333333333,
             "#9c179e"
            ],
            [
             0.4444444444444444,
             "#bd3786"
            ],
            [
             0.5555555555555556,
             "#d8576b"
            ],
            [
             0.6666666666666666,
             "#ed7953"
            ],
            [
             0.7777777777777778,
             "#fb9f3a"
            ],
            [
             0.8888888888888888,
             "#fdca26"
            ],
            [
             1,
             "#f0f921"
            ]
           ],
           "sequentialminus": [
            [
             0,
             "#0d0887"
            ],
            [
             0.1111111111111111,
             "#46039f"
            ],
            [
             0.2222222222222222,
             "#7201a8"
            ],
            [
             0.3333333333333333,
             "#9c179e"
            ],
            [
             0.4444444444444444,
             "#bd3786"
            ],
            [
             0.5555555555555556,
             "#d8576b"
            ],
            [
             0.6666666666666666,
             "#ed7953"
            ],
            [
             0.7777777777777778,
             "#fb9f3a"
            ],
            [
             0.8888888888888888,
             "#fdca26"
            ],
            [
             1,
             "#f0f921"
            ]
           ]
          },
          "colorway": [
           "#636efa",
           "#EF553B",
           "#00cc96",
           "#ab63fa",
           "#FFA15A",
           "#19d3f3",
           "#FF6692",
           "#B6E880",
           "#FF97FF",
           "#FECB52"
          ],
          "font": {
           "color": "#2a3f5f"
          },
          "geo": {
           "bgcolor": "white",
           "lakecolor": "white",
           "landcolor": "#E5ECF6",
           "showlakes": true,
           "showland": true,
           "subunitcolor": "white"
          },
          "hoverlabel": {
           "align": "left"
          },
          "hovermode": "closest",
          "mapbox": {
           "style": "light"
          },
          "paper_bgcolor": "white",
          "plot_bgcolor": "#E5ECF6",
          "polar": {
           "angularaxis": {
            "gridcolor": "white",
            "linecolor": "white",
            "ticks": ""
           },
           "bgcolor": "#E5ECF6",
           "radialaxis": {
            "gridcolor": "white",
            "linecolor": "white",
            "ticks": ""
           }
          },
          "scene": {
           "xaxis": {
            "backgroundcolor": "#E5ECF6",
            "gridcolor": "white",
            "gridwidth": 2,
            "linecolor": "white",
            "showbackground": true,
            "ticks": "",
            "zerolinecolor": "white"
           },
           "yaxis": {
            "backgroundcolor": "#E5ECF6",
            "gridcolor": "white",
            "gridwidth": 2,
            "linecolor": "white",
            "showbackground": true,
            "ticks": "",
            "zerolinecolor": "white"
           },
           "zaxis": {
            "backgroundcolor": "#E5ECF6",
            "gridcolor": "white",
            "gridwidth": 2,
            "linecolor": "white",
            "showbackground": true,
            "ticks": "",
            "zerolinecolor": "white"
           }
          },
          "shapedefaults": {
           "line": {
            "color": "#2a3f5f"
           }
          },
          "ternary": {
           "aaxis": {
            "gridcolor": "white",
            "linecolor": "white",
            "ticks": ""
           },
           "baxis": {
            "gridcolor": "white",
            "linecolor": "white",
            "ticks": ""
           },
           "bgcolor": "#E5ECF6",
           "caxis": {
            "gridcolor": "white",
            "linecolor": "white",
            "ticks": ""
           }
          },
          "title": {
           "x": 0.05
          },
          "xaxis": {
           "automargin": true,
           "gridcolor": "white",
           "linecolor": "white",
           "ticks": "",
           "title": {
            "standoff": 15
           },
           "zerolinecolor": "white",
           "zerolinewidth": 2
          },
          "yaxis": {
           "automargin": true,
           "gridcolor": "white",
           "linecolor": "white",
           "ticks": "",
           "title": {
            "standoff": 15
           },
           "zerolinecolor": "white",
           "zerolinewidth": 2
          }
         }
        }
       }
      }
     },
     "metadata": {},
     "output_type": "display_data"
    }
   ],
   "source": [
    "def match_progression(match):\n",
    "    match_df_2=innings_2[innings_2[\"Match ID\"]==match]\n",
    "    target=match_df_2.iloc[0][\"current score\"]\n",
    "    match_df_2[\"Current score\"]=match_df_2[\"current score\"]-target\n",
    "    match_df_2.drop(columns=[\"current score\"],inplace=True)\n",
    "    match_df_2.rename(columns={\"Current score\":\"current score\"},inplace=True)\n",
    "    match_df_2[\"balls\"]=(match_df_2[\"Over\"]-1)*6+match_df_2[\"Ball\"]\n",
    "    match_df_2.drop(columns=[\"Ball\",\"Innings\"],inplace=True)\n",
    "    match_df=df2.drop(columns=['Ball','Target Score','Date'])\n",
    "    match_df=match_df[match_df[\"Match ID\"]==match]\n",
    "    columns=match_df.columns.to_list()\n",
    "    overs_df=pd.DataFrame(columns=columns)\n",
    "    initial=match_df.iloc[0].values.tolist()\n",
    "    initial[4]=0\n",
    "    initial[6]=120\n",
    "    initial[7]=10\n",
    "    overs_df.loc[0]=initial\n",
    "    cnt=1\n",
    "    for i in range(5,len(match_df),6):\n",
    "        overs_df.loc[cnt]=match_df.iloc[i].values.tolist()\n",
    "        cnt+=1\n",
    "    over_prog=match_df_2.groupby(\"Over\").sum()[[\"Runs From Ball\",\"Wicket\"]].reset_index()\n",
    "    runs_per_over=over_prog[\"Runs From Ball\"].to_list()\n",
    "    overs=overs_df[\"Over\"].to_list()\n",
    "    wickets=over_prog[\"Wicket\"].to_list()\n",
    "    wickets=wickets[:-1]\n",
    "    wickets.insert(0,0)\n",
    "    overs_df.drop(columns=[\"Match ID\",\"Chased Successfully\",\"Over\"],inplace=True)\n",
    "    win,lose=[],[]\n",
    "    columns=overs_df.columns\n",
    "    for i in range(len(overs_df)):\n",
    "        record=pd.DataFrame(overs_df.iloc[i])\n",
    "        values=[[rec[0] for rec in record.values]]\n",
    "        x=pd.DataFrame(values,columns=columns)\n",
    "        probabilities=pipeline_lr.predict_proba(x)[0]\n",
    "        win.append(round(probabilities[1]*100))\n",
    "        lose.append(round(probabilities[0]*100))\n",
    "    fig=go.Figure()\n",
    "    fig.add_trace(go.Bar(x=overs,y=runs_per_over,name=\"runs per over\"))\n",
    "    fig.add_trace(go.Scatter(x=overs,y=win,mode=\"markers+lines\",marker_color=\"green\",name=\"win  probability\"))\n",
    "    fig.add_trace(go.Scatter(x=overs,y=lose,mode=\"markers+lines\",marker_color=\"red\",name=\"loss probability\"))\n",
    "    fig.add_trace(go.Scatter(x=overs,y=wickets,mode=\"markers+lines\",marker_color=\"black\",name=\"wickets per over\"))\n",
    "    fig.show()\n",
    "match_progression(1339605)\n"
   ]
  },
  {
   "cell_type": "code",
   "execution_count": 32,
   "metadata": {},
   "outputs": [
    {
     "data": {
      "text/plain": [
       "array([1339605], dtype=int64)"
      ]
     },
     "execution_count": 32,
     "metadata": {},
     "output_type": "execute_result"
    }
   ],
   "source": [
    "date=\"2023-03-26\"\n",
    "batting_first=\"West Indies\"\n",
    "chasing=\"South Africa\"\n",
    "venue=\"SuperSport Park\"\n",
    "df[(df[\"Date\"]==date) & (df[\"Bat First\"]==batting_first) & (df[\"Bat Second\"]==chasing) & (df[\"Venue\"]==venue)][\"Match ID\"].unique()\n",
    "# df[(df[\"Date\"]==date)]"
   ]
  },
  {
   "cell_type": "code",
   "execution_count": 33,
   "metadata": {},
   "outputs": [],
   "source": [
    "df2.to_csv(\"pure.csv\")"
   ]
  },
  {
   "cell_type": "code",
   "execution_count": null,
   "metadata": {},
   "outputs": [],
   "source": [
    "pickle"
   ]
  }
 ],
 "metadata": {
  "kernelspec": {
   "display_name": "Python 3",
   "language": "python",
   "name": "python3"
  },
  "language_info": {
   "codemirror_mode": {
    "name": "ipython",
    "version": 3
   },
   "file_extension": ".py",
   "mimetype": "text/x-python",
   "name": "python",
   "nbconvert_exporter": "python",
   "pygments_lexer": "ipython3",
   "version": "3.10.4"
  }
 },
 "nbformat": 4,
 "nbformat_minor": 2
}
