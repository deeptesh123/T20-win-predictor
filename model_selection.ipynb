{
 "cells": [
  {
   "cell_type": "code",
   "execution_count": 4,
   "metadata": {},
   "outputs": [],
   "source": [
    "import pandas as pd\n",
    "import warnings\n",
    "warnings.filterwarnings('always')\n",
    "warnings.filterwarnings('ignore')\n",
    "from sklearn.preprocessing import OneHotEncoder\n",
    "from sklearn.model_selection import train_test_split,GridSearchCV\n",
    "from sklearn.compose import ColumnTransformer\n",
    "from sklearn.pipeline import Pipeline\n",
    "from sklearn.linear_model import LogisticRegression\n",
    "from sklearn.svm import SVC\n",
    "from sklearn.ensemble import RandomForestClassifier\n",
    "from sklearn.metrics import accuracy_score\n",
    "from tqdm import tqdm\n",
    "import pickle"
   ]
  },
  {
   "cell_type": "code",
   "execution_count": 5,
   "metadata": {},
   "outputs": [
    {
     "data": {
      "text/html": [
       "<div>\n",
       "<style scoped>\n",
       "    .dataframe tbody tr th:only-of-type {\n",
       "        vertical-align: middle;\n",
       "    }\n",
       "\n",
       "    .dataframe tbody tr th {\n",
       "        vertical-align: top;\n",
       "    }\n",
       "\n",
       "    .dataframe thead th {\n",
       "        text-align: right;\n",
       "    }\n",
       "</style>\n",
       "<table border=\"1\" class=\"dataframe\">\n",
       "  <thead>\n",
       "    <tr style=\"text-align: right;\">\n",
       "      <th></th>\n",
       "      <th>Unnamed: 0</th>\n",
       "      <th>Venue</th>\n",
       "      <th>Bat First</th>\n",
       "      <th>Bat Second</th>\n",
       "      <th>runs left</th>\n",
       "      <th>balls left</th>\n",
       "      <th>wickets left</th>\n",
       "      <th>crr</th>\n",
       "      <th>rrr</th>\n",
       "      <th>result</th>\n",
       "    </tr>\n",
       "  </thead>\n",
       "  <tbody>\n",
       "    <tr>\n",
       "      <th>0</th>\n",
       "      <td>0</td>\n",
       "      <td>The Rose Bowl</td>\n",
       "      <td>England</td>\n",
       "      <td>Australia</td>\n",
       "      <td>180</td>\n",
       "      <td>119</td>\n",
       "      <td>10</td>\n",
       "      <td>0.0</td>\n",
       "      <td>9.08</td>\n",
       "      <td>0</td>\n",
       "    </tr>\n",
       "    <tr>\n",
       "      <th>1</th>\n",
       "      <td>1</td>\n",
       "      <td>The Rose Bowl</td>\n",
       "      <td>England</td>\n",
       "      <td>Australia</td>\n",
       "      <td>176</td>\n",
       "      <td>118</td>\n",
       "      <td>10</td>\n",
       "      <td>12.0</td>\n",
       "      <td>8.95</td>\n",
       "      <td>0</td>\n",
       "    </tr>\n",
       "    <tr>\n",
       "      <th>2</th>\n",
       "      <td>2</td>\n",
       "      <td>The Rose Bowl</td>\n",
       "      <td>England</td>\n",
       "      <td>Australia</td>\n",
       "      <td>176</td>\n",
       "      <td>117</td>\n",
       "      <td>10</td>\n",
       "      <td>8.0</td>\n",
       "      <td>9.03</td>\n",
       "      <td>0</td>\n",
       "    </tr>\n",
       "    <tr>\n",
       "      <th>3</th>\n",
       "      <td>3</td>\n",
       "      <td>The Rose Bowl</td>\n",
       "      <td>England</td>\n",
       "      <td>Australia</td>\n",
       "      <td>176</td>\n",
       "      <td>116</td>\n",
       "      <td>10</td>\n",
       "      <td>6.0</td>\n",
       "      <td>9.10</td>\n",
       "      <td>0</td>\n",
       "    </tr>\n",
       "    <tr>\n",
       "      <th>4</th>\n",
       "      <td>4</td>\n",
       "      <td>The Rose Bowl</td>\n",
       "      <td>England</td>\n",
       "      <td>Australia</td>\n",
       "      <td>172</td>\n",
       "      <td>115</td>\n",
       "      <td>10</td>\n",
       "      <td>9.6</td>\n",
       "      <td>8.97</td>\n",
       "      <td>0</td>\n",
       "    </tr>\n",
       "  </tbody>\n",
       "</table>\n",
       "</div>"
      ],
      "text/plain": [
       "   Unnamed: 0          Venue Bat First Bat Second  runs left  balls left  \\\n",
       "0           0  The Rose Bowl   England  Australia        180         119   \n",
       "1           1  The Rose Bowl   England  Australia        176         118   \n",
       "2           2  The Rose Bowl   England  Australia        176         117   \n",
       "3           3  The Rose Bowl   England  Australia        176         116   \n",
       "4           4  The Rose Bowl   England  Australia        172         115   \n",
       "\n",
       "   wickets left   crr   rrr  result  \n",
       "0            10   0.0  9.08       0  \n",
       "1            10  12.0  8.95       0  \n",
       "2            10   8.0  9.03       0  \n",
       "3            10   6.0  9.10       0  \n",
       "4            10   9.6  8.97       0  "
      ]
     },
     "execution_count": 5,
     "metadata": {},
     "output_type": "execute_result"
    }
   ],
   "source": [
    "df=pd.read_csv(\"model training dataset.csv\")\n",
    "df.head()"
   ]
  },
  {
   "cell_type": "code",
   "execution_count": 6,
   "metadata": {},
   "outputs": [
    {
     "data": {
      "text/plain": [
       "(97737, 9)"
      ]
     },
     "execution_count": 6,
     "metadata": {},
     "output_type": "execute_result"
    }
   ],
   "source": [
    "df.drop(columns=['Unnamed: 0'],inplace=True)\n",
    "df.shape"
   ]
  },
  {
   "cell_type": "code",
   "execution_count": 7,
   "metadata": {},
   "outputs": [
    {
     "data": {
      "text/html": [
       "<div>\n",
       "<style scoped>\n",
       "    .dataframe tbody tr th:only-of-type {\n",
       "        vertical-align: middle;\n",
       "    }\n",
       "\n",
       "    .dataframe tbody tr th {\n",
       "        vertical-align: top;\n",
       "    }\n",
       "\n",
       "    .dataframe thead th {\n",
       "        text-align: right;\n",
       "    }\n",
       "</style>\n",
       "<table border=\"1\" class=\"dataframe\">\n",
       "  <thead>\n",
       "    <tr style=\"text-align: right;\">\n",
       "      <th></th>\n",
       "      <th>runs left</th>\n",
       "      <th>balls left</th>\n",
       "      <th>wickets left</th>\n",
       "      <th>crr</th>\n",
       "      <th>rrr</th>\n",
       "    </tr>\n",
       "  </thead>\n",
       "  <tbody>\n",
       "    <tr>\n",
       "      <th>count</th>\n",
       "      <td>97737.000000</td>\n",
       "      <td>97737.000000</td>\n",
       "      <td>97737.00000</td>\n",
       "      <td>97737.000000</td>\n",
       "      <td>97737.000000</td>\n",
       "    </tr>\n",
       "    <tr>\n",
       "      <th>mean</th>\n",
       "      <td>92.280661</td>\n",
       "      <td>64.286504</td>\n",
       "      <td>7.26469</td>\n",
       "      <td>7.335667</td>\n",
       "      <td>10.443846</td>\n",
       "    </tr>\n",
       "    <tr>\n",
       "      <th>std</th>\n",
       "      <td>49.656606</td>\n",
       "      <td>32.806349</td>\n",
       "      <td>2.30095</td>\n",
       "      <td>2.451207</td>\n",
       "      <td>13.907903</td>\n",
       "    </tr>\n",
       "    <tr>\n",
       "      <th>min</th>\n",
       "      <td>-18.000000</td>\n",
       "      <td>1.000000</td>\n",
       "      <td>-1.00000</td>\n",
       "      <td>0.000000</td>\n",
       "      <td>-24.000000</td>\n",
       "    </tr>\n",
       "    <tr>\n",
       "      <th>25%</th>\n",
       "      <td>53.000000</td>\n",
       "      <td>37.000000</td>\n",
       "      <td>6.00000</td>\n",
       "      <td>6.000000</td>\n",
       "      <td>6.740000</td>\n",
       "    </tr>\n",
       "    <tr>\n",
       "      <th>50%</th>\n",
       "      <td>91.000000</td>\n",
       "      <td>65.000000</td>\n",
       "      <td>8.00000</td>\n",
       "      <td>7.250000</td>\n",
       "      <td>8.710000</td>\n",
       "    </tr>\n",
       "    <tr>\n",
       "      <th>75%</th>\n",
       "      <td>128.000000</td>\n",
       "      <td>93.000000</td>\n",
       "      <td>9.00000</td>\n",
       "      <td>8.620000</td>\n",
       "      <td>10.970000</td>\n",
       "    </tr>\n",
       "    <tr>\n",
       "      <th>max</th>\n",
       "      <td>273.000000</td>\n",
       "      <td>119.000000</td>\n",
       "      <td>10.00000</td>\n",
       "      <td>60.000000</td>\n",
       "      <td>822.000000</td>\n",
       "    </tr>\n",
       "  </tbody>\n",
       "</table>\n",
       "</div>"
      ],
      "text/plain": [
       "          runs left    balls left  wickets left           crr           rrr\n",
       "count  97737.000000  97737.000000   97737.00000  97737.000000  97737.000000\n",
       "mean      92.280661     64.286504       7.26469      7.335667     10.443846\n",
       "std       49.656606     32.806349       2.30095      2.451207     13.907903\n",
       "min      -18.000000      1.000000      -1.00000      0.000000    -24.000000\n",
       "25%       53.000000     37.000000       6.00000      6.000000      6.740000\n",
       "50%       91.000000     65.000000       8.00000      7.250000      8.710000\n",
       "75%      128.000000     93.000000       9.00000      8.620000     10.970000\n",
       "max      273.000000    119.000000      10.00000     60.000000    822.000000"
      ]
     },
     "execution_count": 7,
     "metadata": {},
     "output_type": "execute_result"
    }
   ],
   "source": [
    "x=df.iloc[:,:-1]\n",
    "y=df.iloc[:,-1]\n",
    "x_train,x_test,y_train,y_test=train_test_split(x,y,test_size=0.8)\n",
    "x.describe()"
   ]
  },
  {
   "cell_type": "code",
   "execution_count": 8,
   "metadata": {},
   "outputs": [],
   "source": [
    "ct=ColumnTransformer([(\"trf\",OneHotEncoder(sparse=False,drop=\"first\"),['Venue','Bat First', 'Bat Second'])],remainder=\"passthrough\")"
   ]
  },
  {
   "cell_type": "code",
   "execution_count": 9,
   "metadata": {},
   "outputs": [
    {
     "name": "stdout",
     "output_type": "stream",
     "text": [
      "Accuracy with Random Forest: 0.9870955365136207\n",
      "[0.01 0.99]\n",
      "[1. 0.]\n",
      "[0.92 0.08]\n",
      "[0.82 0.18]\n",
      "[0. 1.]\n",
      "[1. 0.]\n",
      "[0. 1.]\n",
      "[0.93 0.07]\n",
      "[0.06 0.94]\n",
      "[0. 1.]\n",
      "[0.62 0.38]\n",
      "[1. 0.]\n",
      "[0.85 0.15]\n",
      "[0.14 0.86]\n",
      "[0.84 0.16]\n",
      "[0.1 0.9]\n",
      "[0.84 0.16]\n",
      "[0.99 0.01]\n",
      "[0.3 0.7]\n",
      "[0.98 0.02]\n"
     ]
    }
   ],
   "source": [
    "pipeline_rf=Pipeline(steps=[(\"step 1\",ct),(\"step 2\",RandomForestClassifier())])\n",
    "pipeline_rf.fit(x_train,y_train)\n",
    "y_pred_rf=pipeline_rf.predict(x_test)\n",
    "print(\"Accuracy with Random Forest:\",accuracy_score(y_test,y_pred_rf))\n",
    "for i in range(20):\n",
    "    print(pipeline_rf.predict_proba(x_test)[i])"
   ]
  },
  {
   "cell_type": "code",
   "execution_count": 10,
   "metadata": {},
   "outputs": [
    {
     "name": "stdout",
     "output_type": "stream",
     "text": [
      "Accuracy with Logistic regression: 0.8595600460416933\n",
      "[0.27595804 0.72404196]\n",
      "[0.99834609 0.00165391]\n",
      "[0.74210643 0.25789357]\n",
      "[0.31732796 0.68267204]\n",
      "[0.044241 0.955759]\n",
      "[0.99891307 0.00108693]\n",
      "[0.02816439 0.97183561]\n",
      "[0.92585426 0.07414574]\n",
      "[0.43126725 0.56873275]\n",
      "[0.00383519 0.99616481]\n",
      "[0.28639519 0.71360481]\n",
      "[9.99994680e-01 5.32014574e-06]\n",
      "[0.5953367 0.4046633]\n",
      "[0.24072017 0.75927983]\n",
      "[0.91717662 0.08282338]\n",
      "[0.04998857 0.95001143]\n",
      "[0.7924993 0.2075007]\n",
      "[0.89200379 0.10799621]\n",
      "[0.23838801 0.76161199]\n",
      "[0.55550806 0.44449194]\n"
     ]
    }
   ],
   "source": [
    "pipeline_lr=Pipeline(steps=[(\"step 1\",ct),(\"step 2\",LogisticRegression(solver=\"liblinear\"))])\n",
    "pipeline_lr.fit(x_train,y_train)\n",
    "y_pred_lr=pipeline_lr.predict(x_test)\n",
    "print(\"Accuracy with Logistic regression:\",accuracy_score(y_test,y_pred_lr))\n",
    "for i in range(20):\n",
    "    print(pipeline_lr.predict_proba(x_test)[i])"
   ]
  },
  {
   "cell_type": "code",
   "execution_count": 16,
   "metadata": {},
   "outputs": [],
   "source": [
    "pickle.dump(pipeline_lr,open(\"lr_pipeline.pkl\",\"wb\"))"
   ]
  },
  {
   "cell_type": "code",
   "execution_count": 17,
   "metadata": {},
   "outputs": [],
   "source": [
    "pickle.dump(pipeline_rf,open(\"rf_pipeline.pkl\",\"wb\"))"
   ]
  },
  {
   "cell_type": "code",
   "execution_count": 12,
   "metadata": {},
   "outputs": [],
   "source": [
    "# trf_x_train=ct.fit_transform(x_train)\n",
    "# trf_x_test=ct.fit_transform(x_test)\n",
    "# params={\"C\":[0.01,0.1,1,10,100],\"kernel\":[\"linear\",\"sigmoid\",\"rbf\"]}\n",
    "# grid=GridSearchCV(SVC(),params)\n",
    "# grid.fit(trf_x_train,y_train)"
   ]
  },
  {
   "cell_type": "code",
   "execution_count": 13,
   "metadata": {},
   "outputs": [],
   "source": [
    "# print(grid.best_estimator_)\n",
    "# print(grid.score(trf_x_test,y_test))"
   ]
  },
  {
   "cell_type": "code",
   "execution_count": 14,
   "metadata": {},
   "outputs": [],
   "source": [
    "# trf_x_train=ct.fit_transform(x_train)\n",
    "# trf_x_test=ct.fit_transform(x_test)\n",
    "# C=[10,100]\n",
    "# for c in tqdm(C):\n",
    "#     model=SVC(kernel='linear',C=c)\n",
    "#     model.fit(trf_x_train,y_train)\n",
    "#     y_pred=model.predict(trf_x_test)\n",
    "#     print(f\"accuracy with linear kernel and c={C} is\",accuracy_score(y_test,y_pred))"
   ]
  }
 ],
 "metadata": {
  "kernelspec": {
   "display_name": "Python 3",
   "language": "python",
   "name": "python3"
  },
  "language_info": {
   "codemirror_mode": {
    "name": "ipython",
    "version": 3
   },
   "file_extension": ".py",
   "mimetype": "text/x-python",
   "name": "python",
   "nbconvert_exporter": "python",
   "pygments_lexer": "ipython3",
   "version": "3.10.4"
  }
 },
 "nbformat": 4,
 "nbformat_minor": 2
}
